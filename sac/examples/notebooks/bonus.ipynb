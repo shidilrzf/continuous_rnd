{
 "cells": [
  {
   "cell_type": "code",
   "execution_count": 2,
   "metadata": {},
   "outputs": [],
   "source": [
    "import torch\n",
    "from torch.utils.data import TensorDataset, DataLoader\n",
    "import numpy as np\n",
    "\n",
    "import gym\n",
    "import d4rl\n",
    "\n",
    "from rlkit.torch.networks import Mlp\n",
    "import seaborn as sns\n",
    "import matplotlib.pyplot as plt\n",
    "\n",
    "import matplotlib\n",
    "matplotlib.rcParams['figure.figsize'] = (15, 10)\n"
   ]
  },
  {
   "cell_type": "code",
   "execution_count": 3,
   "metadata": {},
   "outputs": [],
   "source": [
    "def get_bonus(obs, actions, network, target_network):\n",
    "    data = torch.cat((obs, actions), dim=1)\n",
    "    # print('size of data:{}'.format(data.size()))\n",
    "    \n",
    "    with torch.no_grad():\n",
    "        bonus = abs(network(data) - target_network(data))\n",
    "    # print('size of bonus:{}'.format(bonus.size()))\n",
    "    \n",
    "    return bonus"
   ]
  },
  {
   "cell_type": "code",
   "execution_count": 4,
   "metadata": {},
   "outputs": [],
   "source": [
    "def get_bonus_random_actions(obs, actions, network, target_network):\n",
    "    action_shape = actions.shape[0]\n",
    "    obs_shape = obs.shape[0]\n",
    "    num_repeat = int (action_shape / obs_shape)\n",
    "    obs_temp = obs.unsqueeze(1).repeat(1, num_repeat, 1).view(obs.shape[0] * num_repeat, obs.shape[1])\n",
    "    # feed to the bonus networks\n",
    "    data = torch.cat((obs_temp, actions), dim=1)\n",
    "    with torch.no_grad():\n",
    "        bonus = abs(network(data) - target_network(data))\n",
    "    # reshape\n",
    "    bonus = bonus.view(obs.shape[0], num_repeat, 1)\n",
    "    return bonus"
   ]
  },
  {
   "cell_type": "code",
   "execution_count": 5,
   "metadata": {},
   "outputs": [],
   "source": [
    "def load_models(model_name):\n",
    "    \n",
    "    M = 64\n",
    "    network = Mlp(\n",
    "        input_size=obs_dim + action_dim,\n",
    "        output_size=1,\n",
    "        hidden_sizes=[M, M],\n",
    "    )\n",
    "\n",
    "    target_network = Mlp(\n",
    "    input_size=obs_dim + action_dim,\n",
    "    output_size=1,\n",
    "    hidden_sizes=[M, M],\n",
    "    )\n",
    "    \n",
    "    path = '../models/{}'.format(model_name)\n",
    "    checkpoint = torch.load(path, map_location='cpu')\n",
    "    network.load_state_dict(checkpoint['network_state_dict'])\n",
    "    target_network.load_state_dict(checkpoint['target_state_dict'])\n",
    "\n",
    "    print('Loading model: {}'.format(path))\n",
    "    \n",
    "    return network, target_network"
   ]
  },
  {
   "cell_type": "code",
   "execution_count": 6,
   "metadata": {},
   "outputs": [],
   "source": [
    "num_bins = 100\n",
    "num_random = 10"
   ]
  },
  {
   "cell_type": "markdown",
   "metadata": {},
   "source": [
    "# Halfcheetah"
   ]
  },
  {
   "cell_type": "code",
   "execution_count": 8,
   "metadata": {},
   "outputs": [
    {
     "name": "stdout",
     "output_type": "stream",
     "text": [
      "17\n",
      "6\n"
     ]
    }
   ],
   "source": [
    "env_name = 'halfcheetah-medium-v0'\n",
    "\n",
    "env = gym.make(env_name)\n",
    "obs_dim = env.observation_space.low.size\n",
    "action_dim = env.action_space.low.size\n",
    "\n",
    "print(obs_dim)\n",
    "print(action_dim)\n",
    "\n",
    "dataset = env.get_dataset()\n",
    "obs = torch.from_numpy(dataset['observations'])\n",
    "actions = torch.from_numpy(dataset['actions'])\n",
    "rewards = dataset['rewards']\n"
   ]
  },
  {
   "cell_type": "code",
   "execution_count": 9,
   "metadata": {},
   "outputs": [
    {
     "name": "stdout",
     "output_type": "stream",
     "text": [
      "Loading model: ../models/Nov-03-2020_1648_halfcheetah-medium-v0.pt\n"
     ]
    }
   ],
   "source": [
    "model_name = 'Nov-03-2020_1648_halfcheetah-medium-v0.pt'\n",
    "network_1, target_network_1 = load_models(model_name)\n",
    "bonus_1 = get_bonus(obs, actions, network_1, target_network_1).detach().cpu().numpy()"
   ]
  },
  {
   "cell_type": "code",
   "execution_count": 10,
   "metadata": {},
   "outputs": [],
   "source": [
    "random_actions = torch.FloatTensor(actions.shape[0] * num_random, actions.shape[-1]).uniform_(-1, 1)\n",
    "bonus_random_1 = get_bonus_random_actions(obs, random_actions, network_1, target_network_1).detach().cpu().numpy()\n",
    "bonus_random_1_mean = np.mean(bonus_random_1, axis=1)"
   ]
  },
  {
   "cell_type": "code",
   "execution_count": 11,
   "metadata": {},
   "outputs": [],
   "source": [
    "ind = np.random.permutation(actions.shape[0])\n",
    "shuffled_actions = actions[ind]\n",
    "\n",
    "bonus_shuffled_1 = get_bonus(obs, shuffled_actions, network_1, target_network_1).detach().cpu().numpy()"
   ]
  },
  {
   "cell_type": "code",
   "execution_count": 12,
   "metadata": {},
   "outputs": [
    {
     "name": "stdout",
     "output_type": "stream",
     "text": [
      "mean reward:3.9530251026153564, delta_bonus:0.00021603186905849725\n",
      "rho1:1.8e+04, beta1:4.6e+03\n",
      "rho2:1.7e+05, beta2:4.2e+04\n"
     ]
    }
   ],
   "source": [
    "reward_mean = np.mean(rewards)\n",
    "delta_bonus_1 = abs(bonus_random_1_mean - bonus_1).squeeze(1)\n",
    "\n",
    "delta_bonus_1_mean = np.mean(delta_bonus_1)\n",
    "b_0 = 0.25\n",
    "print('mean reward:{}, delta_bonus:{}'.format(reward_mean,delta_bonus_1_mean))\n",
    "rho1 = reward_mean / delta_bonus_1_mean\n",
    "beta1 = b_0 * rho1\n",
    "print('rho1:{0:0.2g}, beta1:{1:.2g}'.format(rho1, beta1))\n",
    "\n",
    "\n",
    "rho2 = np.mean(rewards / np.clip(delta_bonus_1, 1e-9, 1e9))\n",
    "beta2 = b_0 * rho2\n",
    "print('rho2:{0:.2g}, beta2:{1:.2g}'.format(rho2, beta2))\n",
    "\n",
    "beta = beta1"
   ]
  },
  {
   "cell_type": "code",
   "execution_count": 14,
   "metadata": {},
   "outputs": [
    {
     "name": "stdout",
     "output_type": "stream",
     "text": [
      "beta1:1.8e+03\n",
      "beta1:3.7e+03\n",
      "beta1:5.5e+03\n",
      "beta1:7.3e+03\n",
      "beta1:9.1e+03\n",
      "beta1:1.1e+04\n",
      "beta1:1.3e+04\n"
     ]
    }
   ],
   "source": [
    "for b_0 in [0.1, 0.2, 0.3, 0.4 , 0.5, 0.6, 0.7]:\n",
    "    print('beta1:{:.2g}'.format(b_0 * rho1))"
   ]
  },
  {
   "cell_type": "code",
   "execution_count": 11,
   "metadata": {},
   "outputs": [
    {
     "data": {
      "text/plain": [
       "<matplotlib.legend.Legend at 0x7fbe418d0af0>"
      ]
     },
     "execution_count": 11,
     "metadata": {},
     "output_type": "execute_result"
    },
    {
     "data": {
      "image/png": "[encoded data removed]",
      "text/plain": [
       "<Figure size 1080x720 with 6 Axes>"
      ]
     },
     "metadata": {
      "needs_background": "light"
     },
     "output_type": "display_data"
    }
   ],
   "source": [
    "# ax1, ax2, ax3, ax4, ax5, ax6 = plt.subplots(2, 3, figsize=(15, 5), sharey=True)\n",
    "\n",
    "plt.subplot(2, 3, 1)\n",
    "plt.hist(beta * bonus_1, bins = num_bins, label='dataset')\n",
    "plt.legend()\n",
    "\n",
    "plt.subplot(2, 3, 2)\n",
    "plt.hist(beta * bonus_shuffled_1, bins = num_bins, label='shuffled')\n",
    "plt.legend()\n",
    "\n",
    "plt.subplot(2, 3, 3)\n",
    "plt.hist(beta * bonus_1, bins = num_bins, label='dataset')\n",
    "plt.hist(beta * bonus_shuffled_1, bins = num_bins, label='shuffled')\n",
    "plt.legend(loc='upper right')\n",
    "\n",
    "\n",
    "plt.subplot(2, 3, 4)\n",
    "plt.hist(beta * bonus_1, bins = num_bins, label='dataset')\n",
    "plt.legend()\n",
    "\n",
    "plt.subplot(2, 3, 5)\n",
    "plt.hist(beta * bonus_random_1_mean, bins = num_bins, label='random')\n",
    "plt.legend()\n",
    "\n",
    "plt.subplot(2, 3, 6)\n",
    "plt.hist(beta * bonus_1, bins = num_bins, label='dataset')\n",
    "plt.hist(beta * bonus_random_1_mean, bins = num_bins, label='random')\n",
    "plt.legend(loc='upper right')"
   ]
  },
  {
   "cell_type": "code",
   "execution_count": 20,
   "metadata": {},
   "outputs": [
    {
     "name": "stdout",
     "output_type": "stream",
     "text": [
      "(1000000,)\n",
      "(1000000,)\n",
      "(1000000,)\n"
     ]
    }
   ],
   "source": [
    "print(delta_bonus_1.shape)\n",
    "print(bonus_1.squeeze(1).shape)\n",
    "print(rewards.shape)\n",
    "\n",
    "param_1 = delta_bonus_1 / np.clip(bonus_1.squeeze(1), 1e-9, 1e9)\n",
    "param_2 = rewards / np.clip(bonus_1.squeeze(1), 1e-9, 1e9)\n",
    "param_3 = rewards / np.clip(delta_bonus_1, 1e-9, 1e9)"
   ]
  },
  {
   "cell_type": "code",
   "execution_count": 25,
   "metadata": {},
   "outputs": [
    {
     "data": {
      "text/plain": [
       "343637.2"
      ]
     },
     "execution_count": 25,
     "metadata": {},
     "output_type": "execute_result"
    }
   ],
   "source": [
    "max(param_1)"
   ]
  },
  {
   "cell_type": "code",
   "execution_count": 23,
   "metadata": {},
   "outputs": [
    {
     "data": {
      "text/plain": [
       "<matplotlib.legend.Legend at 0x7fbe2f54f5b0>"
      ]
     },
     "execution_count": 23,
     "metadata": {},
     "output_type": "execute_result"
    },
    {
     "data": {
      "image/png": "[encoded data removed]",
      "text/plain": [
       "<Figure size 1440x360 with 3 Axes>"
      ]
     },
     "metadata": {
      "needs_background": "light"
     },
     "output_type": "display_data"
    }
   ],
   "source": [
    "matplotlib.rcParams['figure.figsize'] = (20, 5)\n",
    "\n",
    "plt.subplot(1, 3, 1)\n",
    "plt.hist(beta * param_1, bins = num_bins, label='delta_b/b')\n",
    "plt.legend()\n",
    "\n",
    "plt.subplot(1, 3, 2)\n",
    "plt.hist(beta * param_2, bins = num_bins, label='r/b')\n",
    "plt.legend()\n",
    "\n",
    "plt.subplot(1, 3, 3)\n",
    "plt.hist(beta * param_3, bins = num_bins, label='r/delta_b')\n",
    "plt.legend(loc='upper right')\n",
    "\n",
    "\n",
    "\n"
   ]
  },
  {
   "cell_type": "code",
   "execution_count": null,
   "metadata": {},
   "outputs": [],
   "source": [
    "plt.hist(beta * bonus_1, bins = num_bins, label='dataset')\n",
    "plt.hist(beta * bonus_random_1_mean, bins = num_bins, label='random')\n",
    "plt.legend(loc='upper right')"
   ]
  },
  {
   "cell_type": "markdown",
   "metadata": {},
   "source": [
    "## hopper-medium"
   ]
  },
  {
   "cell_type": "code",
   "execution_count": null,
   "metadata": {},
   "outputs": [],
   "source": [
    "env_name = 'hopper-medium-v0'\n",
    "\n",
    "env = gym.make(env_name)\n",
    "obs_dim = env.observation_space.low.size\n",
    "action_dim = env.action_space.low.size\n",
    "\n",
    "print(obs_dim)\n",
    "print(action_dim)\n",
    "\n",
    "dataset = env.get_dataset()\n",
    "obs = dataset['observations']\n",
    "actions = dataset['actions']\n",
    "rewards = dataset['rewards']"
   ]
  },
  {
   "cell_type": "code",
   "execution_count": null,
   "metadata": {},
   "outputs": [],
   "source": [
    "model_name = 'Nov-09-2020_1517_hopper-medium-v0.pt'\n",
    "network_1, target_network_1 = load_models(model_name)\n",
    "bonus_1 = get_bonus(obs, actions, network_1, target_network_1).detach().cpu().numpy()"
   ]
  },
  {
   "cell_type": "code",
   "execution_count": null,
   "metadata": {},
   "outputs": [],
   "source": [
    "plt.subplot(2, 3, 1)\n",
    "plt.hist(beta * bonus_1, bins = num_bins, label='dataset')\n",
    "plt.legend()\n",
    "\n",
    "plt.subplot(2, 3, 2)\n",
    "plt.hist(beta * bonus_shuffled_1, bins = num_bins, label='shuffled')\n",
    "plt.legend()\n",
    "\n",
    "plt.subplot(2, 3, 3)\n",
    "plt.hist(beta * bonus_1, bins = num_bins, label='dataset')\n",
    "plt.hist(beta * bonus_shuffled_1, bins = num_bins, label='shuffled')\n",
    "plt.legend(loc='upper right')\n",
    "\n",
    "\n",
    "plt.subplot(2, 3, 4)\n",
    "plt.hist(beta * bonus_1, bins = num_bins, label='dataset')\n",
    "plt.legend()\n",
    "\n",
    "plt.subplot(2, 3, 5)\n",
    "plt.hist(beta * bonus_random_1, bins = num_bins, label='random')\n",
    "plt.legend()\n",
    "\n",
    "plt.subplot(2, 3, 6)\n",
    "plt.hist(beta * bonus_1, bins = num_bins, label='dataset')\n",
    "plt.hist(beta * bonus_random_1, bins = num_bins, label='random')\n",
    "plt.legend(loc='upper right')"
   ]
  },
  {
   "cell_type": "markdown",
   "metadata": {},
   "source": [
    "# Walker2d-medium\n"
   ]
  },
  {
   "cell_type": "code",
   "execution_count": 15,
   "metadata": {},
   "outputs": [
    {
     "name": "stdout",
     "output_type": "stream",
     "text": [
      "17\n",
      "6\n"
     ]
    }
   ],
   "source": [
    "env_name = 'walker2d-medium-v0'\n",
    "\n",
    "env = gym.make(env_name)\n",
    "obs_dim = env.observation_space.low.size\n",
    "action_dim = env.action_space.low.size\n",
    "\n",
    "print(obs_dim)\n",
    "print(action_dim)\n",
    "dataset = env.get_dataset()\n",
    "\n",
    "obs = torch.from_numpy(dataset['observations'])\n",
    "actions = torch.from_numpy(dataset['actions'])\n",
    "rewards = dataset['rewards']"
   ]
  },
  {
   "cell_type": "code",
   "execution_count": 16,
   "metadata": {},
   "outputs": [
    {
     "name": "stdout",
     "output_type": "stream",
     "text": [
      "Loading model: ../models/Nov-19-2020_1043_walker2d-medium-v0.pt\n",
      "Loading model: ../models/Nov-19-2020_1357_walker2d-medium-v0.pt\n"
     ]
    }
   ],
   "source": [
    "model_name_1 = 'Nov-19-2020_1043_walker2d-medium-v0.pt'\n",
    "model_name_2 = 'Nov-19-2020_1357_walker2d-medium-v0.pt'\n",
    "network_1, target_network_1 = load_models(model_name_1)\n",
    "network_2, target_network_2 = load_models(model_name_2)\n",
    "\n"
   ]
  },
  {
   "cell_type": "code",
   "execution_count": 17,
   "metadata": {},
   "outputs": [],
   "source": [
    "bonus_1 = get_bonus(obs, actions, network_1, target_network_1).detach().cpu().numpy()\n",
    "bonus_2 = get_bonus(obs, actions, network_2, target_network_2).detach().cpu().numpy()\n",
    "\n",
    "ind = np.random.permutation(actions.shape[0])\n",
    "shuffled_actions = actions[ind]\n",
    "\n",
    "\n",
    "bonus_shuffled_1 = get_bonus(obs, shuffled_actions, network_1, target_network_1).detach().cpu().numpy()\n",
    "bonus_shuffled_2 = get_bonus(obs, shuffled_actions, network_2, target_network_2).detach().cpu().numpy()\n"
   ]
  },
  {
   "cell_type": "code",
   "execution_count": 18,
   "metadata": {},
   "outputs": [],
   "source": [
    "random_actions = torch.FloatTensor(actions.shape[0] * num_random, actions.shape[-1]).uniform_(-1, 1)\n",
    "\n",
    "bonus_random_1 = get_bonus_random_actions(obs, random_actions, network_1, target_network_1).detach().cpu().numpy()\n",
    "bonus_random_1_mean = np.mean(bonus_random_1, axis=1)\n",
    "\n",
    "bonus_random_2 = get_bonus_random_actions(obs, random_actions, network_2, target_network_2).detach().cpu().numpy()\n",
    "bonus_random_2_mean = np.mean(bonus_random_1, axis=1)"
   ]
  },
  {
   "cell_type": "code",
   "execution_count": 19,
   "metadata": {},
   "outputs": [
    {
     "name": "stdout",
     "output_type": "stream",
     "text": [
      "mean reward:2.6488335132598877, delta_bonus:0.00020374081213958561\n",
      "rho1:1.3e+04, beta1:3.3e+03\n",
      "rho2:1.2e+05, beta2:2.9e+04\n"
     ]
    }
   ],
   "source": [
    "reward_mean = np.mean(rewards)\n",
    "delta_bonus_1 = abs(bonus_random_1_mean - bonus_1).squeeze(1)\n",
    "\n",
    "delta_bonus_1_mean = np.mean(delta_bonus_1)\n",
    "b_0 = 0.25\n",
    "print('mean reward:{}, delta_bonus:{}'.format(reward_mean,delta_bonus_1_mean))\n",
    "rho1 = reward_mean / delta_bonus_1_mean\n",
    "beta1 = b_0 * rho1\n",
    "print('rho1:{0:0.2g}, beta1:{1:.2g}'.format(rho1, beta1))\n",
    "\n",
    "rho2 = np.mean(rewards / np.clip(delta_bonus_1, 1e-9, 1e9))\n",
    "beta2 = b_0 * rho2\n",
    "print('rho2:{0:.2g}, beta2:{1:.2g}'.format(rho2, beta2))\n",
    "\n",
    "beta = beta1"
   ]
  },
  {
   "cell_type": "code",
   "execution_count": 20,
   "metadata": {},
   "outputs": [
    {
     "name": "stdout",
     "output_type": "stream",
     "text": [
      "beta1:1.3e+03\n",
      "beta1:2.6e+03\n",
      "beta1:3.9e+03\n",
      "beta1:5.2e+03\n",
      "beta1:6.5e+03\n",
      "beta1:7.8e+03\n",
      "beta1:9.1e+03\n"
     ]
    }
   ],
   "source": [
    "for b_0 in [0.1, 0.2, 0.3, 0.4 , 0.5, 0.6, 0.7]:\n",
    "    print('beta1:{:.2g}'.format(b_0 * rho1))"
   ]
  },
  {
   "cell_type": "code",
   "execution_count": 29,
   "metadata": {},
   "outputs": [
    {
     "name": "stdout",
     "output_type": "stream",
     "text": [
      "mean reward:2.6488335132598877, delta_bonus:0.0004119538061786443\n",
      "beta1:3.2e+03\n",
      "beta2:3.7e+04\n"
     ]
    }
   ],
   "source": [
    "reward_mean = np.mean(rewards)\n",
    "delta_bonus_2 = abs(bonus_random_2_mean - bonus_2).squeeze(1)\n",
    "\n",
    "delta_bonus_2_mean = np.mean(delta_bonus_2)\n",
    "b_0 = 0.5\n",
    "print('mean reward:{}, delta_bonus:{}'.format(reward_mean,delta_bonus_2_mean))\n",
    "rho1 = reward_mean / delta_bonus_2_mean\n",
    "beta1 = b_0 * rho1\n",
    "print('beta1:{:.2g}'.format(beta1))\n",
    "\n",
    "rho2 = np.mean(rewards / np.clip(delta_bonus_2, 1e-9, 1e9))\n",
    "beta2 = b_0 * rho2\n",
    "print('beta2:{:.2g}'.format(beta2))\n",
    "\n",
    "beta = beta1"
   ]
  },
  {
   "cell_type": "code",
   "execution_count": 30,
   "metadata": {},
   "outputs": [
    {
     "data": {
      "text/plain": [
       "<matplotlib.legend.Legend at 0x7f00d3543580>"
      ]
     },
     "execution_count": 30,
     "metadata": {},
     "output_type": "execute_result"
    },
    {
     "data": {
      "image/png": "[encoded data removed]",
      "text/plain": [
       "<Figure size 1080x720 with 6 Axes>"
      ]
     },
     "metadata": {
      "needs_background": "light"
     },
     "output_type": "display_data"
    }
   ],
   "source": [
    "plt.subplot(2, 3, 1)\n",
    "plt.hist(beta * bonus_1, bins = num_bins, label='dataset')\n",
    "plt.legend()\n",
    "\n",
    "plt.subplot(2, 3, 2)\n",
    "plt.hist(beta * bonus_shuffled_1, bins = num_bins, label='shuffled')\n",
    "plt.legend()\n",
    "\n",
    "plt.subplot(2, 3, 3)\n",
    "plt.hist(beta * bonus_1, bins = num_bins, label='dataset')\n",
    "plt.hist(beta * bonus_shuffled_1, bins = num_bins, label='shuffled')\n",
    "plt.legend(loc='upper right')\n",
    "\n",
    "\n",
    "plt.subplot(2, 3, 4)\n",
    "plt.hist(beta * bonus_1, bins = num_bins, label='dataset')\n",
    "plt.legend()\n",
    "\n",
    "plt.subplot(2, 3, 5)\n",
    "plt.hist(beta * bonus_random_1_mean, bins = num_bins, label='random')\n",
    "plt.legend()\n",
    "\n",
    "plt.subplot(2, 3, 6)\n",
    "plt.hist(beta * bonus_1, bins = num_bins, label='dataset')\n",
    "plt.hist(beta * bonus_random_1_mean, bins = num_bins, label='random')\n",
    "plt.legend(loc='upper right')"
   ]
  },
  {
   "cell_type": "code",
   "execution_count": 31,
   "metadata": {},
   "outputs": [
    {
     "data": {
      "text/plain": [
       "<matplotlib.legend.Legend at 0x7f00d2a5fd00>"
      ]
     },
     "execution_count": 31,
     "metadata": {},
     "output_type": "execute_result"
    },
    {
     "data": {
      "image/png": "[encoded data removed]",
      "text/plain": [
       "<Figure size 1080x720 with 6 Axes>"
      ]
     },
     "metadata": {
      "needs_background": "light"
     },
     "output_type": "display_data"
    }
   ],
   "source": [
    "plt.subplot(2, 3, 1)\n",
    "plt.hist(beta * bonus_2, bins = num_bins, label='dataset')\n",
    "plt.legend()\n",
    "\n",
    "plt.subplot(2, 3, 2)\n",
    "plt.hist(beta * bonus_shuffled_2, bins = num_bins, label='shuffled')\n",
    "plt.legend()\n",
    "\n",
    "plt.subplot(2, 3, 3)\n",
    "plt.hist(beta * bonus_2, bins = num_bins, label='dataset')\n",
    "plt.hist(beta * bonus_shuffled_2, bins = num_bins, label='shuffled')\n",
    "plt.legend(loc='upper right')\n",
    "\n",
    "\n",
    "plt.subplot(2, 3, 4)\n",
    "plt.hist(beta * bonus_2, bins = num_bins, label='dataset')\n",
    "plt.legend()\n",
    "\n",
    "plt.subplot(2, 3, 5)\n",
    "plt.hist(beta * bonus_random_2_mean, bins = num_bins, label='random')\n",
    "plt.legend()\n",
    "\n",
    "plt.subplot(2, 3, 6)\n",
    "plt.hist(beta * bonus_2, bins = num_bins, label='dataset')\n",
    "plt.hist(beta * bonus_random_2_mean, bins = num_bins, label='random')\n",
    "plt.legend(loc='upper right')"
   ]
  },
  {
   "cell_type": "markdown",
   "metadata": {},
   "source": [
    "## normalizng the obs and actions"
   ]
  },
  {
   "cell_type": "code",
   "execution_count": 21,
   "metadata": {},
   "outputs": [],
   "source": [
    "obs_normalized = (obs - obs.mean(axis=0)) / obs.std(axis=0)\n",
    "actions_normalized = (actions - actions.mean(axis=0)) / actions.std(axis=0)"
   ]
  },
  {
   "cell_type": "code",
   "execution_count": 22,
   "metadata": {},
   "outputs": [
    {
     "name": "stdout",
     "output_type": "stream",
     "text": [
      "Loading model: ../models/Nov-25-2020_2036_walker2d-medium-v0.pt\n",
      "Loading model: ../models/Nov-23-2020_1150_walker2d-medium-v0.pt\n"
     ]
    }
   ],
   "source": [
    "model_name_1 = 'Nov-25-2020_2036_walker2d-medium-v0.pt'\n",
    "model_name_2 = 'Nov-23-2020_1150_walker2d-medium-v0.pt'\n",
    "\n",
    "network_1, target_network_1 = load_models(model_name_1)\n",
    "network_2, target_network_2 = load_models(model_name_2)"
   ]
  },
  {
   "cell_type": "code",
   "execution_count": 23,
   "metadata": {},
   "outputs": [],
   "source": [
    "bonus_1 = get_bonus(obs, actions, network_1, target_network_1).detach().cpu().numpy()\n",
    "bonus_2 = get_bonus(obs, actions, network_2, target_network_2).detach().cpu().numpy()\n",
    "\n",
    "ind = np.random.permutation(actions.shape[0])\n",
    "shuffled_actions = actions[ind]\n",
    "\n",
    "\n",
    "bonus_shuffled_1 = get_bonus(obs, shuffled_actions, network_1, target_network_1).detach().cpu().numpy()\n",
    "bonus_shuffled_2 = get_bonus(obs, shuffled_actions, network_2, target_network_2).detach().cpu().numpy()\n"
   ]
  },
  {
   "cell_type": "code",
   "execution_count": 24,
   "metadata": {},
   "outputs": [],
   "source": [
    "random_actions = torch.FloatTensor(actions.shape[0] * num_random, actions.shape[-1]).uniform_(-1, 1)\n",
    "\n",
    "bonus_random_1 = get_bonus_random_actions(obs, random_actions, network_1, target_network_1).detach().cpu().numpy()\n",
    "bonus_random_1_mean = np.mean(bonus_random_1, axis=1)\n",
    "\n",
    "bonus_random_2 = get_bonus_random_actions(obs, random_actions, network_2, target_network_2).detach().cpu().numpy()\n",
    "bonus_random_2_mean = np.mean(bonus_random_1, axis=1)"
   ]
  },
  {
   "cell_type": "code",
   "execution_count": 32,
   "metadata": {},
   "outputs": [
    {
     "name": "stdout",
     "output_type": "stream",
     "text": [
      "mean reward:2.6488335132598877, delta_bonus:0.0003254744515288621\n",
      "beta1:4.1e+03, rho1:8.1e+03\n",
      "beta2:3.5e+04, rho2:7e+04\n"
     ]
    }
   ],
   "source": [
    "reward_mean = np.mean(rewards)\n",
    "delta_bonus_1 = abs(bonus_random_1_mean - bonus_1).squeeze(1)\n",
    "\n",
    "delta_bonus_1_mean = np.mean(delta_bonus_1)\n",
    "b_0 = 0.5\n",
    "print('mean reward:{}, delta_bonus:{}'.format(reward_mean,delta_bonus_1_mean))\n",
    "rho1 = reward_mean / delta_bonus_1_mean\n",
    "beta1 = b_0 * rho1\n",
    "print('beta1:{:.2g}, rho1:{:.2g}'.format(beta1, rho1))\n",
    "\n",
    "rho2 = np.mean(rewards / np.clip(delta_bonus_1, 1e-9, 1e9))\n",
    "beta2 = b_0 * rho2\n",
    "print('beta2:{:.2g}, rho2:{:.2g}'.format(beta2, rho2))\n",
    "\n"
   ]
  },
  {
   "cell_type": "code",
   "execution_count": 48,
   "metadata": {
    "scrolled": true
   },
   "outputs": [
    {
     "name": "stdout",
     "output_type": "stream",
     "text": [
      "beta1:8.1e+02\n",
      "beta1:2.4e+03\n",
      "beta1:4.1e+03\n",
      "beta1:5.7e+03\n"
     ]
    }
   ],
   "source": [
    "for b_0 in [0.1, 0.3, 0.5, 0.7]:\n",
    "    print('beta1:{:.2g}'.format(b_0 * rho1))"
   ]
  },
  {
   "cell_type": "code",
   "execution_count": 49,
   "metadata": {},
   "outputs": [
    {
     "name": "stdout",
     "output_type": "stream",
     "text": [
      "beta1:7e+03\n",
      "beta1:2.1e+04\n",
      "beta1:3.5e+04\n",
      "beta1:4.9e+04\n"
     ]
    }
   ],
   "source": [
    "for b_0 in [0.1, 0.3, 0.5, 0.7]:\n",
    "    print('beta1:{:.2g}'.format(b_0 * rho2))"
   ]
  },
  {
   "cell_type": "code",
   "execution_count": 53,
   "metadata": {
    "scrolled": true
   },
   "outputs": [
    {
     "name": "stdout",
     "output_type": "stream",
     "text": [
      "median reward:3.02319598197937, delta_bonus:0.0002667059889063239\n",
      "beta1:5.7e+03, rho1:1.1e+04\n",
      "beta2:4.6e+03, rho2:9.3e+03\n"
     ]
    }
   ],
   "source": [
    "bonus_random_1_median = np.median(bonus_random_1, axis=1)\n",
    "\n",
    "reward_median = np.median(rewards)\n",
    "delta_bonus_1 = abs(bonus_random_1_median - bonus_1).squeeze(1)\n",
    "\n",
    "delta_bonus_1_median = np.median(delta_bonus_1)\n",
    "b_0 = 0.5\n",
    "print('median reward:{}, delta_bonus:{}'.format(reward_median,delta_bonus_1_median))\n",
    "rho1 = reward_median / delta_bonus_1_median\n",
    "beta1 = b_0 * rho1\n",
    "print('beta1:{:.2g}, rho1:{:.2g}'.format(beta1, rho1))\n",
    "\n",
    "rho2 = np.median(rewards / np.clip(delta_bonus_1, 1e-9, 1e9))\n",
    "beta2 = b_0 * rho2\n",
    "print('beta2:{:.2g}, rho2:{:.2g}'.format(beta2, rho2))\n"
   ]
  },
  {
   "cell_type": "code",
   "execution_count": 54,
   "metadata": {},
   "outputs": [
    {
     "name": "stdout",
     "output_type": "stream",
     "text": [
      "beta1:1.1e+03\n",
      "beta1:3.4e+03\n",
      "beta1:5.7e+03\n",
      "beta1:7.9e+03\n"
     ]
    }
   ],
   "source": [
    "for b_0 in [0.1, 0.3, 0.5, 0.7]:\n",
    "    print('beta1:{:.2g}'.format(b_0 * rho1))"
   ]
  },
  {
   "cell_type": "code",
   "execution_count": 55,
   "metadata": {},
   "outputs": [
    {
     "name": "stdout",
     "output_type": "stream",
     "text": [
      "beta1:9.3e+02\n",
      "beta1:2.8e+03\n",
      "beta1:4.6e+03\n",
      "beta1:6.5e+03\n"
     ]
    }
   ],
   "source": [
    "for b_0 in [0.1, 0.3, 0.5, 0.7]:\n",
    "    print('beta1:{:.2g}'.format(b_0 * rho2))"
   ]
  },
  {
   "cell_type": "code",
   "execution_count": 37,
   "metadata": {},
   "outputs": [
    {
     "data": {
      "text/plain": [
       "<matplotlib.legend.Legend at 0x7f00d8dcd0a0>"
      ]
     },
     "execution_count": 37,
     "metadata": {},
     "output_type": "execute_result"
    },
    {
     "data": {
      "image/png": "[encoded data removed]",
      "text/plain": [
       "<Figure size 1080x720 with 6 Axes>"
      ]
     },
     "metadata": {
      "needs_background": "light"
     },
     "output_type": "display_data"
    }
   ],
   "source": [
    "plt.subplot(2, 3, 1)\n",
    "plt.hist(beta * bonus_1, bins = num_bins, label='dataset')\n",
    "plt.legend()\n",
    "\n",
    "plt.subplot(2, 3, 2)\n",
    "plt.hist(beta * bonus_shuffled_1, bins = num_bins, label='shuffled')\n",
    "plt.legend()\n",
    "\n",
    "plt.subplot(2, 3, 3)\n",
    "plt.hist(beta * bonus_1, bins = num_bins, label='dataset')\n",
    "plt.hist(beta * bonus_shuffled_1, bins = num_bins, label='shuffled')\n",
    "plt.legend(loc='upper right')\n",
    "\n",
    "\n",
    "plt.subplot(2, 3, 4)\n",
    "plt.hist(beta * bonus_1, bins = num_bins, label='dataset')\n",
    "plt.legend()\n",
    "\n",
    "plt.subplot(2, 3, 5)\n",
    "plt.hist(beta * bonus_random_1_mean, bins = num_bins, label='random')\n",
    "plt.legend()\n",
    "\n",
    "plt.subplot(2, 3, 6)\n",
    "plt.hist(beta * bonus_1, bins = num_bins, label='dataset')\n",
    "plt.hist(beta * bonus_random_1_mean, bins = num_bins, label='random')\n",
    "plt.legend(loc='upper right')"
   ]
  },
  {
   "cell_type": "code",
   "execution_count": 38,
   "metadata": {},
   "outputs": [
    {
     "data": {
      "text/plain": [
       "<matplotlib.legend.Legend at 0x7f00d8355130>"
      ]
     },
     "execution_count": 38,
     "metadata": {},
     "output_type": "execute_result"
    },
    {
     "data": {
      "image/png": "[encoded data removed]",
      "text/plain": [
       "<Figure size 1080x720 with 6 Axes>"
      ]
     },
     "metadata": {
      "needs_background": "light"
     },
     "output_type": "display_data"
    }
   ],
   "source": [
    "plt.subplot(2, 3, 1)\n",
    "plt.hist(beta * bonus_2, bins = num_bins, label='dataset')\n",
    "plt.legend()\n",
    "\n",
    "plt.subplot(2, 3, 2)\n",
    "plt.hist(beta * bonus_shuffled_2, bins = num_bins, label='shuffled')\n",
    "plt.legend()\n",
    "\n",
    "plt.subplot(2, 3, 3)\n",
    "plt.hist(beta * bonus_2, bins = num_bins, label='dataset')\n",
    "plt.hist(beta * bonus_shuffled_2, bins = num_bins, label='shuffled')\n",
    "plt.legend(loc='upper right')\n",
    "\n",
    "\n",
    "plt.subplot(2, 3, 4)\n",
    "plt.hist(beta * bonus_2, bins = num_bins, label='dataset')\n",
    "plt.legend()\n",
    "\n",
    "plt.subplot(2, 3, 5)\n",
    "plt.hist(beta * bonus_random_2_mean, bins = num_bins, label='random')\n",
    "plt.legend()\n",
    "\n",
    "plt.subplot(2, 3, 6)\n",
    "plt.hist(beta * bonus_2, bins = num_bins, label='dataset')\n",
    "plt.hist(beta * bonus_random_2_mean, bins = num_bins, label='random')\n",
    "plt.legend(loc='upper right')"
   ]
  },
  {
   "cell_type": "code",
   "execution_count": null,
   "metadata": {},
   "outputs": [],
   "source": []
  }
 ],
 "metadata": {
  "kernelspec": {
   "display_name": "Python 3",
   "language": "python",
   "name": "python3"
  },
  "language_info": {
   "codemirror_mode": {
    "name": "ipython",
    "version": 3
   },
   "file_extension": ".py",
   "mimetype": "text/x-python",
   "name": "python",
   "nbconvert_exporter": "python",
   "pygments_lexer": "ipython3",
   "version": "3.8.5"
  }
 },
 "nbformat": 4,
 "nbformat_minor": 4
}

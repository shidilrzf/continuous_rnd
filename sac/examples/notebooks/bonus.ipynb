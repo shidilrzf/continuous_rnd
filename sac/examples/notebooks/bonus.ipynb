{
 "cells": [
  {
   "cell_type": "code",
   "execution_count": 3,
   "metadata": {},
   "outputs": [],
   "source": [
    "import torch\n",
    "from torch.utils.data import TensorDataset, DataLoader\n",
    "import numpy as np\n",
    "\n",
    "import gym\n",
    "import d4rl\n",
    "\n",
    "from rlkit.torch.networks import Mlp\n",
    "import seaborn as sns\n",
    "import matplotlib.pyplot as plt\n",
    "\n",
    "import matplotlib\n",
    "matplotlib.rcParams['figure.figsize'] = (15, 10)\n"
   ]
  },
  {
   "cell_type": "code",
   "execution_count": 4,
   "metadata": {},
   "outputs": [],
   "source": [
    "def get_bonus(obs, actions, network, target_network):\n",
    "    x = torch.from_numpy(obs)\n",
    "    y = torch.from_numpy(actions)\n",
    "    data = torch.cat((x, y), dim=1)\n",
    "    print('size of data:{}'.format(data.size()))\n",
    "    \n",
    "    out1 = network(data)\n",
    "    out2 = target_network(data)\n",
    "    bonus = abs(out1 - out2)\n",
    "    print('size of bonus:{}'.format(bonus.size()))\n",
    "    \n",
    "    return bonus"
   ]
  },
  {
   "cell_type": "code",
   "execution_count": 5,
   "metadata": {},
   "outputs": [],
   "source": [
    "def load_models(model_name):\n",
    "    \n",
    "    M = 64\n",
    "    network = Mlp(\n",
    "        input_size=obs_dim + action_dim,\n",
    "        output_size=1,\n",
    "        hidden_sizes=[M, M],\n",
    "    )\n",
    "\n",
    "    target_network = Mlp(\n",
    "    input_size=obs_dim + action_dim,\n",
    "    output_size=1,\n",
    "    hidden_sizes=[M, M],\n",
    "    )\n",
    "    \n",
    "    path = '../models/{}'.format(model_name)\n",
    "    checkpoint = torch.load(path, map_location='cpu')\n",
    "    network.load_state_dict(checkpoint['network_state_dict'])\n",
    "    target_network.load_state_dict(checkpoint['target_state_dict'])\n",
    "\n",
    "    print('Loading model: {}'.format(path))\n",
    "    \n",
    "    return network, target_network"
   ]
  },
  {
   "cell_type": "code",
   "execution_count": 8,
   "metadata": {},
   "outputs": [
    {
     "name": "stdout",
     "output_type": "stream",
     "text": [
      "17\n",
      "6\n"
     ]
    }
   ],
   "source": [
    "env_name = 'halfcheetah-medium-v0'\n",
    "\n",
    "env = gym.make(env_name)\n",
    "obs_dim = env.observation_space.low.size\n",
    "action_dim = env.action_space.low.size\n",
    "\n",
    "print(obs_dim)\n",
    "print(action_dim)\n",
    "\n",
    "dataset = env.get_dataset()\n",
    "obs = dataset['observations']\n",
    "actions = dataset['actions']\n",
    "rewards = dataset['rewards']\n"
   ]
  },
  {
   "cell_type": "code",
   "execution_count": 9,
   "metadata": {},
   "outputs": [
    {
     "name": "stdout",
     "output_type": "stream",
     "text": [
      "Loading model: ../models/Nov-03-2020_1648_halfcheetah-medium-v0.pt\n",
      "size of data:torch.Size([1000000, 23])\n",
      "size of bonus:torch.Size([1000000, 1])\n"
     ]
    }
   ],
   "source": [
    "model_name = 'Nov-03-2020_1648_halfcheetah-medium-v0.pt'\n",
    "network_1, target_network_1 = load_models(model_name)\n",
    "bonus_1 = get_bonus(obs, actions, network_1, target_network_1).detach().cpu().numpy()"
   ]
  },
  {
   "cell_type": "code",
   "execution_count": 10,
   "metadata": {},
   "outputs": [
    {
     "name": "stdout",
     "output_type": "stream",
     "text": [
      "size of data:torch.Size([1000000, 23])\n",
      "size of bonus:torch.Size([1000000, 1])\n",
      "size of data:torch.Size([1000000, 23])\n",
      "size of bonus:torch.Size([1000000, 1])\n"
     ]
    }
   ],
   "source": [
    "ind = np.random.permutation(actions.shape[0])\n",
    "shuffled_actions = actions[ind]\n",
    "\n",
    "random_actions = np.random.rand(actions.shape[0], actions.shape[1]).astype(actions.dtype)\n",
    "\n",
    "bonus_shuffled_1 = get_bonus(obs, shuffled_actions, network_1, target_network_1).detach().cpu().numpy()\n",
    "bonus_random_1 = get_bonus(obs, random_actions, network_1, target_network_1).detach().cpu().numpy()\n"
   ]
  },
  {
   "cell_type": "code",
   "execution_count": 11,
   "metadata": {},
   "outputs": [
    {
     "name": "stdout",
     "output_type": "stream",
     "text": [
      "range bonus:[0.00454132], rewards:10.932053565979004\n"
     ]
    }
   ],
   "source": [
    "reward_rng = max(rewards) - min(rewards)\n",
    "bonus_rng = max(bonus_1) - min(bonus_1)\n",
    "\n",
    "print('range bonus:{}, rewards:{}'.format(bonus_rng, reward_rng))"
   ]
  },
  {
   "cell_type": "code",
   "execution_count": 14,
   "metadata": {},
   "outputs": [
    {
     "name": "stdout",
     "output_type": "stream",
     "text": [
      "scale:[2407.2402]\n",
      "beta:[6018.1006]\n"
     ]
    }
   ],
   "source": [
    "scale = reward_rng / bonus_rng\n",
    "w = 2.5\n",
    "beta = w * scale\n",
    "print('scale:{}'.format(scale))\n",
    "print('beta:{}'.format(w * scale))"
   ]
  },
  {
   "cell_type": "code",
   "execution_count": 15,
   "metadata": {},
   "outputs": [
    {
     "data": {
      "text/plain": [
       "<matplotlib.legend.Legend at 0x7fd09212e520>"
      ]
     },
     "execution_count": 15,
     "metadata": {},
     "output_type": "execute_result"
    },
    {
     "data": {
      "image/png": "[encoded data removed]",
      "text/plain": [
       "<Figure size 1080x720 with 6 Axes>"
      ]
     },
     "metadata": {
      "needs_background": "light"
     },
     "output_type": "display_data"
    }
   ],
   "source": [
    "# ax1, ax2, ax3, ax4, ax5, ax6 = plt.subplots(2, 3, figsize=(15, 5), sharey=True)\n",
    "\n",
    "plt.subplot(2, 3, 1)\n",
    "plt.hist(beta * bonus_1, label='dataset')\n",
    "plt.legend()\n",
    "\n",
    "plt.subplot(2, 3, 2)\n",
    "plt.hist(beta * bonus_shuffled_1, label='shuffled')\n",
    "plt.legend()\n",
    "\n",
    "plt.subplot(2, 3, 3)\n",
    "plt.hist(beta * bonus_1, label='dataset')\n",
    "plt.hist(beta * bonus_shuffled_1, label='shuffled')\n",
    "plt.legend(loc='upper right')\n",
    "\n",
    "\n",
    "plt.subplot(2, 3, 4)\n",
    "plt.hist(beta * bonus_1, label='dataset')\n",
    "plt.legend()\n",
    "\n",
    "plt.subplot(2, 3, 5)\n",
    "plt.hist(beta * bonus_random_1, label='random')\n",
    "plt.legend()\n",
    "\n",
    "plt.subplot(2, 3, 6)\n",
    "plt.hist(beta * bonus_1, label='dataset')\n",
    "plt.hist(beta * bonus_random_1, label='random')\n",
    "plt.legend(loc='upper right')"
   ]
  },
  {
   "cell_type": "markdown",
   "metadata": {},
   "source": [
    "## hopper-medium"
   ]
  },
  {
   "cell_type": "code",
   "execution_count": 16,
   "metadata": {},
   "outputs": [
    {
     "name": "stdout",
     "output_type": "stream",
     "text": [
      "11\n",
      "3\n"
     ]
    }
   ],
   "source": [
    "env_name = 'hopper-medium-v0'\n",
    "\n",
    "env = gym.make(env_name)\n",
    "obs_dim = env.observation_space.low.size\n",
    "action_dim = env.action_space.low.size\n",
    "\n",
    "print(obs_dim)\n",
    "print(action_dim)\n",
    "\n",
    "dataset = env.get_dataset()\n",
    "obs = dataset['observations']\n",
    "actions = dataset['actions']\n",
    "rewards = dataset['rewards']"
   ]
  },
  {
   "cell_type": "code",
   "execution_count": 17,
   "metadata": {},
   "outputs": [
    {
     "name": "stdout",
     "output_type": "stream",
     "text": [
      "Loading model: ../models/Nov-09-2020_1517_hopper-medium-v0.pt\n",
      "size of data:torch.Size([1000000, 14])\n",
      "size of bonus:torch.Size([1000000, 1])\n"
     ]
    }
   ],
   "source": [
    "model_name = 'Nov-09-2020_1517_hopper-medium-v0.pt'\n",
    "network_1, target_network_1 = load_models(model_name)\n",
    "bonus_1 = get_bonus(obs, actions, network_1, target_network_1).detach().cpu().numpy()"
   ]
  },
  {
   "cell_type": "code",
   "execution_count": 18,
   "metadata": {},
   "outputs": [
    {
     "name": "stdout",
     "output_type": "stream",
     "text": [
      "range bonus:[0.00094356], rewards:5.25816535949707\n"
     ]
    }
   ],
   "source": [
    "reward_rng = max(rewards) - min(rewards)\n",
    "bonus_rng = max(bonus_1) - min(bonus_1)\n",
    "\n",
    "print('range bonus:{}, rewards:{}'.format(bonus_rng, reward_rng))"
   ]
  },
  {
   "cell_type": "code",
   "execution_count": 19,
   "metadata": {},
   "outputs": [
    {
     "name": "stdout",
     "output_type": "stream",
     "text": [
      "scale:[5572.6934]\n",
      "beta:[13931.733]\n"
     ]
    }
   ],
   "source": [
    "scale = reward_rng / bonus_rng\n",
    "w = 2.5\n",
    "beta = scale * w\n",
    "print('scale:{}'.format(scale))\n",
    "print('beta:{}'.format(w * scale))"
   ]
  },
  {
   "cell_type": "code",
   "execution_count": 20,
   "metadata": {},
   "outputs": [
    {
     "data": {
      "text/plain": [
       "<matplotlib.legend.Legend at 0x7fd08f3573d0>"
      ]
     },
     "execution_count": 20,
     "metadata": {},
     "output_type": "execute_result"
    },
    {
     "data": {
      "image/png": "[encoded data removed]",
      "text/plain": [
       "<Figure size 1080x720 with 6 Axes>"
      ]
     },
     "metadata": {
      "needs_background": "light"
     },
     "output_type": "display_data"
    }
   ],
   "source": [
    "\n",
    "plt.subplot(2, 3, 1)\n",
    "plt.hist(beta * bonus_1, label='dataset')\n",
    "plt.legend()\n",
    "\n",
    "plt.subplot(2, 3, 2)\n",
    "plt.hist(beta * bonus_shuffled_1, label='shuffled')\n",
    "plt.legend()\n",
    "\n",
    "plt.subplot(2, 3, 3)\n",
    "plt.hist(beta * bonus_1, label='dataset')\n",
    "plt.hist(beta * bonus_shuffled_1, label='shuffled')\n",
    "plt.legend(loc='upper right')\n",
    "\n",
    "\n",
    "plt.subplot(2, 3, 4)\n",
    "plt.hist(beta * bonus_1, label='dataset')\n",
    "plt.legend()\n",
    "\n",
    "plt.subplot(2, 3, 5)\n",
    "plt.hist(beta * bonus_random_1, label='random')\n",
    "plt.legend()\n",
    "\n",
    "plt.subplot(2, 3, 6)\n",
    "plt.hist(beta * bonus_1, label='dataset')\n",
    "plt.hist(beta * bonus_random_1, label='random')\n",
    "plt.legend(loc='upper right')"
   ]
  },
  {
   "cell_type": "markdown",
   "metadata": {},
   "source": [
    "## Walker2d-medium\n"
   ]
  },
  {
   "cell_type": "code",
   "execution_count": 21,
   "metadata": {},
   "outputs": [
    {
     "name": "stdout",
     "output_type": "stream",
     "text": [
      "17\n",
      "6\n"
     ]
    }
   ],
   "source": [
    "env_name = 'walker2d-medium-v0'\n",
    "\n",
    "env = gym.make(env_name)\n",
    "obs_dim = env.observation_space.low.size\n",
    "action_dim = env.action_space.low.size\n",
    "\n",
    "print(obs_dim)\n",
    "print(action_dim)"
   ]
  },
  {
   "cell_type": "code",
   "execution_count": 22,
   "metadata": {},
   "outputs": [],
   "source": [
    "dataset = env.get_dataset()\n",
    "obs = dataset['observations']\n",
    "actions = dataset['actions']\n",
    "rewards = dataset['rewards']"
   ]
  },
  {
   "cell_type": "code",
   "execution_count": 23,
   "metadata": {},
   "outputs": [
    {
     "name": "stdout",
     "output_type": "stream",
     "text": [
      "Loading model: ../models/Nov-19-2020_1043_walker2d-medium-v0.pt\n",
      "Loading model: ../models/Nov-19-2020_1357_walker2d-medium-v0.pt\n"
     ]
    }
   ],
   "source": [
    "model_name_1 = 'Nov-19-2020_1043_walker2d-medium-v0.pt'\n",
    "model_name_2 = 'Nov-19-2020_1357_walker2d-medium-v0.pt'\n",
    "network_1, target_network_1 = load_models(model_name_1)\n",
    "network_2, target_network_2 = load_models(model_name_2)\n",
    "\n"
   ]
  },
  {
   "cell_type": "code",
   "execution_count": 24,
   "metadata": {},
   "outputs": [
    {
     "name": "stdout",
     "output_type": "stream",
     "text": [
      "size of data:torch.Size([1000000, 23])\n",
      "size of bonus:torch.Size([1000000, 1])\n",
      "size of data:torch.Size([1000000, 23])\n",
      "size of bonus:torch.Size([1000000, 1])\n"
     ]
    }
   ],
   "source": [
    "bonus_1 = get_bonus(obs, actions, network_1, target_network_1).detach().cpu().numpy()\n",
    "bonus_2 = get_bonus(obs, actions, network_2, target_network_2).detach().cpu().numpy()"
   ]
  },
  {
   "cell_type": "code",
   "execution_count": 25,
   "metadata": {},
   "outputs": [
    {
     "name": "stdout",
     "output_type": "stream",
     "text": [
      "range bonus1:[0.00542762], range bonus2:[0.01152945],rewards:14.513020515441895\n"
     ]
    }
   ],
   "source": [
    "reward_rng = max(rewards) - min(rewards)\n",
    "bonus_rng_1 = max(bonus_1) - min(bonus_1)\n",
    "bonus_rng_2 = max(bonus_2) - min(bonus_2)\n",
    "\n",
    "print('range bonus1:{}, range bonus2:{},rewards:{}'.format(bonus_rng_1, bonus_rng_2, reward_rng))\n",
    "\n"
   ]
  },
  {
   "cell_type": "code",
   "execution_count": 26,
   "metadata": {},
   "outputs": [
    {
     "name": "stdout",
     "output_type": "stream",
     "text": [
      "scale:[2673.9214]\n",
      "beta:[6684.8037]\n"
     ]
    }
   ],
   "source": [
    "scale = reward_rng / bonus_rng_1\n",
    "w = 2.5\n",
    "beta = w * scale\n",
    "print('scale:{}'.format(scale))\n",
    "print('beta:{}'.format(beta))"
   ]
  },
  {
   "cell_type": "code",
   "execution_count": 27,
   "metadata": {},
   "outputs": [
    {
     "name": "stdout",
     "output_type": "stream",
     "text": [
      "scale:[1258.7777]\n",
      "beta:[3146.9443]\n"
     ]
    }
   ],
   "source": [
    "scale = reward_rng / bonus_rng_2\n",
    "w = 2.5\n",
    "beta = w * scale\n",
    "print('scale:{}'.format(scale))\n",
    "print('beta:{}'.format(beta))"
   ]
  },
  {
   "cell_type": "code",
   "execution_count": 28,
   "metadata": {},
   "outputs": [
    {
     "name": "stdout",
     "output_type": "stream",
     "text": [
      "size of data:torch.Size([1000000, 23])\n",
      "size of bonus:torch.Size([1000000, 1])\n",
      "size of data:torch.Size([1000000, 23])\n",
      "size of bonus:torch.Size([1000000, 1])\n",
      "size of data:torch.Size([1000000, 23])\n",
      "size of bonus:torch.Size([1000000, 1])\n",
      "size of data:torch.Size([1000000, 23])\n",
      "size of bonus:torch.Size([1000000, 1])\n"
     ]
    }
   ],
   "source": [
    "ind = np.random.permutation(actions.shape[0])\n",
    "shuffled_actions = actions[ind]\n",
    "\n",
    "random_actions = np.random.rand(actions.shape[0], actions.shape[1]).astype(actions.dtype)\n",
    "\n",
    "bonus_shuffled_1 = get_bonus(obs, shuffled_actions, network_1, target_network_1).detach().cpu().numpy()\n",
    "bonus_shuffled_2 = get_bonus(obs, shuffled_actions, network_2, target_network_2).detach().cpu().numpy()\n",
    "\n",
    "bonus_random_1 = get_bonus(obs, random_actions, network_1, target_network_1).detach().cpu().numpy()\n",
    "bonus_random_2 = get_bonus(obs, random_actions, network_2, target_network_2).detach().cpu().numpy()\n"
   ]
  },
  {
   "cell_type": "code",
   "execution_count": 29,
   "metadata": {},
   "outputs": [
    {
     "data": {
      "text/plain": [
       "<matplotlib.legend.Legend at 0x7fd091edfe50>"
      ]
     },
     "execution_count": 29,
     "metadata": {},
     "output_type": "execute_result"
    },
    {
     "data": {
      "image/png": "[encoded data removed]",
      "text/plain": [
       "<Figure size 1080x720 with 6 Axes>"
      ]
     },
     "metadata": {
      "needs_background": "light"
     },
     "output_type": "display_data"
    }
   ],
   "source": [
    "plt.subplot(2, 3, 1)\n",
    "plt.hist(beta * bonus_1, label='dataset')\n",
    "plt.legend()\n",
    "\n",
    "plt.subplot(2, 3, 2)\n",
    "plt.hist(beta * bonus_shuffled_1, label='shuffled')\n",
    "plt.legend()\n",
    "\n",
    "plt.subplot(2, 3, 3)\n",
    "plt.hist(beta * bonus_1, label='dataset')\n",
    "plt.hist(beta * bonus_shuffled_1, label='shuffled')\n",
    "plt.legend(loc='upper right')\n",
    "\n",
    "\n",
    "plt.subplot(2, 3, 4)\n",
    "plt.hist(beta * bonus_1, label='dataset')\n",
    "plt.legend()\n",
    "\n",
    "plt.subplot(2, 3, 5)\n",
    "plt.hist(beta * bonus_random_1, label='random')\n",
    "plt.legend()\n",
    "\n",
    "plt.subplot(2, 3, 6)\n",
    "plt.hist(beta * bonus_1, label='dataset')\n",
    "plt.hist(beta * bonus_random_1, label='random')\n",
    "plt.legend(loc='upper right')"
   ]
  },
  {
   "cell_type": "code",
   "execution_count": 30,
   "metadata": {},
   "outputs": [
    {
     "data": {
      "text/plain": [
       "<matplotlib.legend.Legend at 0x7fd091b721c0>"
      ]
     },
     "execution_count": 30,
     "metadata": {},
     "output_type": "execute_result"
    },
    {
     "data": {
      "image/png": "[encoded data removed]",
      "text/plain": [
       "<Figure size 1080x720 with 6 Axes>"
      ]
     },
     "metadata": {
      "needs_background": "light"
     },
     "output_type": "display_data"
    }
   ],
   "source": [
    "plt.subplot(2, 3, 1)\n",
    "plt.hist(beta * bonus_2, label='dataset')\n",
    "plt.legend()\n",
    "\n",
    "plt.subplot(2, 3, 2)\n",
    "plt.hist(beta * bonus_shuffled_2, label='shuffled')\n",
    "plt.legend()\n",
    "\n",
    "plt.subplot(2, 3, 3)\n",
    "plt.hist(beta * bonus_2, label='dataset')\n",
    "plt.hist(beta * bonus_shuffled_2, label='shuffled')\n",
    "plt.legend(loc='upper right')\n",
    "\n",
    "\n",
    "plt.subplot(2, 3, 4)\n",
    "plt.hist(beta * bonus_2, label='dataset')\n",
    "plt.legend()\n",
    "\n",
    "plt.subplot(2, 3, 5)\n",
    "plt.hist(beta * bonus_random_2, label='random')\n",
    "plt.legend()\n",
    "\n",
    "plt.subplot(2, 3, 6)\n",
    "plt.hist(beta * bonus_2, label='dataset')\n",
    "plt.hist(beta * bonus_random_2, label='random')\n",
    "plt.legend(loc='upper right')"
   ]
  },
  {
   "cell_type": "code",
   "execution_count": null,
   "metadata": {},
   "outputs": [],
   "source": []
  }
 ],
 "metadata": {
  "kernelspec": {
   "display_name": "Python 3",
   "language": "python",
   "name": "python3"
  },
  "language_info": {
   "codemirror_mode": {
    "name": "ipython",
    "version": 3
   },
   "file_extension": ".py",
   "mimetype": "text/x-python",
   "name": "python",
   "nbconvert_exporter": "python",
   "pygments_lexer": "ipython3",
   "version": "3.8.5"
  }
 },
 "nbformat": 4,
 "nbformat_minor": 4
}

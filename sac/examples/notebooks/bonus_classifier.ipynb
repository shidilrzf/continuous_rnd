{
 "cells": [
  {
   "cell_type": "code",
   "execution_count": 3,
   "metadata": {},
   "outputs": [],
   "source": [
    "import torch\n",
    "from torch.utils.data import TensorDataset, DataLoader\n",
    "from torch.nn import functional as F\n",
    "\n",
    "import numpy as np\n",
    "\n",
    "import gym\n",
    "import d4rl\n",
    "\n",
    "from rlkit.torch.networks import Mlp\n",
    "import seaborn as sns\n",
    "import matplotlib.pyplot as plt\n",
    "\n",
    "import matplotlib\n",
    "matplotlib.rcParams['figure.figsize'] = (15, 10)\n"
   ]
  },
  {
   "cell_type": "code",
   "execution_count": 4,
   "metadata": {},
   "outputs": [],
   "source": [
    "def get_bonus(obs, actions, network):\n",
    "    data = torch.cat((obs, actions), dim=1)\n",
    "    # print('size of data:{}'.format(data.size()))\n",
    "    \n",
    "    with torch.no_grad():\n",
    "        bonus = network(data)\n",
    "    print('size of bonus:{}'.format(bonus.size()))\n",
    "    \n",
    "    return bonus"
   ]
  },
  {
   "cell_type": "code",
   "execution_count": 5,
   "metadata": {},
   "outputs": [],
   "source": [
    "def get_bonus_random_actions(obs, actions, network):\n",
    "    action_shape = actions.shape[0]\n",
    "    obs_shape = obs.shape[0]\n",
    "    num_repeat = int (action_shape / obs_shape)\n",
    "    obs_temp = obs.unsqueeze(1).repeat(1, num_repeat, 1).view(obs.shape[0] * num_repeat, obs.shape[1])\n",
    "    # feed to the bonus networks\n",
    "    data = torch.cat((obs_temp, actions), dim=1)\n",
    "    with torch.no_grad():\n",
    "        bonus = network(data)\n",
    "    # reshape\n",
    "    bonus = bonus.view(obs.shape[0], num_repeat, 1)\n",
    "    print('size of bonus:{}'.format(bonus.size()))\n",
    "\n",
    "    return bonus"
   ]
  },
  {
   "cell_type": "code",
   "execution_count": 6,
   "metadata": {},
   "outputs": [],
   "source": [
    "def load_models(model_name):\n",
    "    \n",
    "    M = 64\n",
    "    network = Mlp(\n",
    "        input_size=obs_dim + action_dim,\n",
    "        output_size=1,\n",
    "        hidden_sizes=[M, M],\n",
    "        output_activation=F.sigmoid,\n",
    "    )\n",
    "\n",
    "    \n",
    "    path = '../models/{}'.format(model_name)\n",
    "    checkpoint = torch.load(path, map_location='cpu')\n",
    "    network.load_state_dict(checkpoint['network_state_dict'])\n",
    "\n",
    "    print('Loading model: {}'.format(path))\n",
    "    \n",
    "    return network"
   ]
  },
  {
   "cell_type": "code",
   "execution_count": 7,
   "metadata": {},
   "outputs": [],
   "source": [
    "num_random = 10"
   ]
  },
  {
   "cell_type": "markdown",
   "metadata": {},
   "source": [
    "# walker2d"
   ]
  },
  {
   "cell_type": "code",
   "execution_count": 8,
   "metadata": {},
   "outputs": [
    {
     "name": "stderr",
     "output_type": "stream",
     "text": [
      "/usr/local/google/home/shideh/virtual_env/ML/lib/python3.8/site-packages/gym/logger.py:30: UserWarning: \u001b[33mWARN: Box bound precision lowered by casting to float32\u001b[0m\n",
      "  warnings.warn(colorize('%s: %s'%('WARN', msg % args), 'yellow'))\n"
     ]
    },
    {
     "name": "stdout",
     "output_type": "stream",
     "text": [
      "17\n",
      "6\n",
      ".. using normalization ..\n",
      "min_reward:-5.741327285766602, max_reward:8.771693229675293, range: 14.513020515441895\n"
     ]
    }
   ],
   "source": [
    "env_name = 'walker2d-medium-v0'\n",
    "\n",
    "env = gym.make(env_name)\n",
    "obs_dim = env.observation_space.low.size\n",
    "action_dim = env.action_space.low.size\n",
    "\n",
    "print(obs_dim)\n",
    "print(action_dim)\n",
    "\n",
    "dataset = env.get_dataset()\n",
    "obs = torch.from_numpy(dataset['observations'])\n",
    "actions = torch.from_numpy(dataset['actions'])\n",
    "rewards = dataset['rewards']\n",
    "min_reward = min(rewards)\n",
    "max_reward = max(rewards)\n",
    "print('.. using normalization ..')\n",
    "obs = (obs - obs.mean(axis=0)) / obs.std(axis=0)\n",
    "\n",
    "\n",
    "print('min_reward:{}, max_reward:{}, range: {}'.format(min_reward, max_reward, max_reward - min_reward))"
   ]
  },
  {
   "cell_type": "code",
   "execution_count": 9,
   "metadata": {},
   "outputs": [
    {
     "name": "stdout",
     "output_type": "stream",
     "text": [
      "Loading model: ../models/Nov-30-2020_1526_walker2d-medium-v0.pt\n",
      "size of bonus:torch.Size([1000000, 1])\n"
     ]
    },
    {
     "name": "stderr",
     "output_type": "stream",
     "text": [
      "/usr/local/google/home/shideh/virtual_env/ML/lib/python3.8/site-packages/torch/nn/functional.py:1569: UserWarning: nn.functional.sigmoid is deprecated. Use torch.sigmoid instead.\n",
      "  warnings.warn(\"nn.functional.sigmoid is deprecated. Use torch.sigmoid instead.\")\n"
     ]
    }
   ],
   "source": [
    "model_name = 'Nov-30-2020_1124_walker2d-medium-v0.pt'\n",
    "model_name = 'Nov-30-2020_1133_walker2d-medium-v0.pt'\n",
    "model_name = 'Nov-30-2020_1147_walker2d-medium-v0.pt'\n",
    "model_name = 'Nov-30-2020_1526_walker2d-medium-v0.pt'\n",
    "network_1 = load_models(model_name)\n",
    "bonus_1 = get_bonus(obs, actions, network_1,).detach().cpu().numpy()"
   ]
  },
  {
   "cell_type": "code",
   "execution_count": 10,
   "metadata": {},
   "outputs": [
    {
     "name": "stdout",
     "output_type": "stream",
     "text": [
      "size of bonus:torch.Size([1000000, 10, 1])\n"
     ]
    }
   ],
   "source": [
    "random_actions = torch.FloatTensor(actions.shape[0] * num_random, actions.shape[-1]).uniform_(-1, 1)\n",
    "bonus_random_1 = get_bonus_random_actions(obs, random_actions, network_1).detach().cpu().numpy()\n",
    "bonus_random_1_mean = np.mean(bonus_random_1, axis=1)\n"
   ]
  },
  {
   "cell_type": "code",
   "execution_count": 11,
   "metadata": {},
   "outputs": [
    {
     "name": "stdout",
     "output_type": "stream",
     "text": [
      "size of bonus:torch.Size([1000000, 1])\n"
     ]
    }
   ],
   "source": [
    "ind = np.random.permutation(actions.shape[0])\n",
    "shuffled_actions = actions[ind]\n",
    "\n",
    "bonus_shuffled_1 = get_bonus(obs, shuffled_actions, network_1).detach().cpu().numpy()"
   ]
  },
  {
   "cell_type": "code",
   "execution_count": 12,
   "metadata": {},
   "outputs": [
    {
     "name": "stdout",
     "output_type": "stream",
     "text": [
      "mean reward:2.6488335132598877, delta_bonus:0.8877374529838562\n",
      "rho1:3\n",
      "rho2:4\n"
     ]
    }
   ],
   "source": [
    "bonus_random_1_mean = np.mean(bonus_random_1, axis=1)\n",
    "reward_mean = np.mean(rewards)\n",
    "delta_bonus_1 = abs(bonus_random_1_mean - bonus_1).squeeze(1)\n",
    "\n",
    "delta_bonus_1_mean = np.mean(delta_bonus_1)\n",
    "print('mean reward:{}, delta_bonus:{}'.format(reward_mean,delta_bonus_1_mean))\n",
    "rho1_mean = reward_mean / delta_bonus_1_mean\n",
    "print('rho1:{0:0.2g}'.format(rho1_mean))\n",
    "\n",
    "\n",
    "rho2_mean = np.mean(rewards / np.clip(delta_bonus_1, 1e-9, 1e9))\n",
    "print('rho2:{0:.2g}'.format(rho2_mean))"
   ]
  },
  {
   "cell_type": "code",
   "execution_count": 13,
   "metadata": {},
   "outputs": [
    {
     "name": "stdout",
     "output_type": "stream",
     "text": [
      "median reward:3.02319598197937, delta_bonus:0.9241949319839478\n",
      "rho1:3.3\n",
      "rho2:3.4\n"
     ]
    }
   ],
   "source": [
    "bonus_random_1_median = np.mean(bonus_random_1, axis=1)\n",
    "reward_median = np.median(rewards)\n",
    "delta_bonus_1 = abs(bonus_random_1_median - bonus_1).squeeze(1)\n",
    "\n",
    "delta_bonus_1_median = np.median(delta_bonus_1)\n",
    "print('median reward:{}, delta_bonus:{}'.format(reward_median,delta_bonus_1_median))\n",
    "rho1_median = reward_median / delta_bonus_1_median\n",
    "print('rho1:{0:0.2g}'.format(rho1_median))\n",
    "\n",
    "\n",
    "rho2_median = np.median(rewards / np.clip(delta_bonus_1, 1e-9, 1e9))\n",
    "print('rho2:{0:.2g}'.format(rho2_median))"
   ]
  },
  {
   "cell_type": "code",
   "execution_count": 14,
   "metadata": {},
   "outputs": [
    {
     "data": {
      "text/plain": [
       "Text(0.5, 0.98, 'walker2d-medium-v0')"
      ]
     },
     "execution_count": 14,
     "metadata": {},
     "output_type": "execute_result"
    },
    {
     "data": {
      "image/png": "[encoded data removed]",
      "text/plain": [
       "<Figure size 1080x720 with 6 Axes>"
      ]
     },
     "metadata": {
      "needs_background": "light"
     },
     "output_type": "display_data"
    }
   ],
   "source": [
    "num_bins = 20\n",
    "matplotlib.rcParams['figure.figsize'] = (15, 10)\n",
    "fig=plt.figure()\n",
    "plt.subplot(2, 3, 1)\n",
    "plt.hist(bonus_1, bins = num_bins, label='dataset')\n",
    "plt.legend()\n",
    "\n",
    "plt.subplot(2, 3, 2)\n",
    "plt.hist(bonus_shuffled_1, bins = num_bins, label='shuffled')\n",
    "plt.legend()\n",
    "\n",
    "plt.subplot(2, 3, 3)\n",
    "plt.hist(bonus_1, bins = num_bins, label='dataset')\n",
    "plt.hist(bonus_shuffled_1, bins = num_bins, label='shuffled')\n",
    "plt.legend(loc='upper right')\n",
    "\n",
    "\n",
    "plt.subplot(2, 3, 4)\n",
    "plt.hist(bonus_1, bins = num_bins, label='dataset')\n",
    "plt.legend()\n",
    "\n",
    "plt.subplot(2, 3, 5)\n",
    "plt.hist(bonus_random_1_mean, bins = num_bins, label='random')\n",
    "plt.legend()\n",
    "\n",
    "plt.subplot(2, 3, 6)\n",
    "plt.hist(bonus_1, bins = num_bins, label='dataset')\n",
    "plt.hist(bonus_random_1_mean, bins = num_bins, label='random')\n",
    "plt.legend(loc='upper right')\n",
    "\n",
    "plt.suptitle(env_name)"
   ]
  },
  {
   "cell_type": "markdown",
   "metadata": {},
   "source": [
    "# Halfcheetah"
   ]
  },
  {
   "cell_type": "code",
   "execution_count": 13,
   "metadata": {},
   "outputs": [
    {
     "name": "stdout",
     "output_type": "stream",
     "text": [
      "17\n",
      "6\n",
      ".. using normalization ..\n",
      "min_reward:-2.8285481929779053, max_reward:8.10350513458252, range: 10.932053565979004\n"
     ]
    }
   ],
   "source": [
    "env_name = 'halfcheetah-medium-v0'\n",
    "\n",
    "env = gym.make(env_name)\n",
    "obs_dim = env.observation_space.low.size\n",
    "action_dim = env.action_space.low.size\n",
    "\n",
    "print(obs_dim)\n",
    "print(action_dim)\n",
    "\n",
    "dataset = env.get_dataset()\n",
    "obs = torch.from_numpy(dataset['observations'])\n",
    "actions = torch.from_numpy(dataset['actions'])\n",
    "rewards = dataset['rewards']\n",
    "min_reward = min(rewards)\n",
    "max_reward = max(rewards)\n",
    "\n",
    "print('.. using normalization ..')\n",
    "obs = (obs - obs.mean(axis=0)) / obs.std(axis=0)\n",
    "\n",
    "\n",
    "print('min_reward:{}, max_reward:{}, range: {}'.format(min_reward, max_reward, max_reward - min_reward))"
   ]
  },
  {
   "cell_type": "code",
   "execution_count": 14,
   "metadata": {},
   "outputs": [
    {
     "name": "stdout",
     "output_type": "stream",
     "text": [
      "Loading model: ../models/Nov-30-2020_1349_halfcheetah-medium-v0.pt\n",
      "size of bonus:torch.Size([1000000, 1])\n"
     ]
    }
   ],
   "source": [
    "model_name = 'Nov-30-2020_1217_halfcheetah-medium-v0.pt'\n",
    "model_name = 'Nov-30-2020_1226_halfcheetah-medium-v0.pt'\n",
    "model_name = 'Nov-30-2020_1230_halfcheetah-medium-v0.pt'\n",
    "model_name = 'Nov-30-2020_1349_halfcheetah-medium-v0.pt'\n",
    "network_1 = load_models(model_name)\n",
    "bonus_1 = get_bonus(obs, actions, network_1,).detach().cpu().numpy()"
   ]
  },
  {
   "cell_type": "code",
   "execution_count": 15,
   "metadata": {},
   "outputs": [
    {
     "name": "stdout",
     "output_type": "stream",
     "text": [
      "size of bonus:torch.Size([1000000, 10, 1])\n"
     ]
    }
   ],
   "source": [
    "random_actions = torch.FloatTensor(actions.shape[0] * num_random, actions.shape[-1]).uniform_(-1, 1)\n",
    "bonus_random_1 = get_bonus_random_actions(obs, random_actions, network_1).detach().cpu().numpy()\n",
    "bonus_random_1_mean = np.mean(bonus_random_1, axis=1)\n"
   ]
  },
  {
   "cell_type": "code",
   "execution_count": 16,
   "metadata": {},
   "outputs": [
    {
     "name": "stdout",
     "output_type": "stream",
     "text": [
      "size of bonus:torch.Size([1000000, 1])\n"
     ]
    }
   ],
   "source": [
    "ind = np.random.permutation(actions.shape[0])\n",
    "shuffled_actions = actions[ind]\n",
    "\n",
    "bonus_shuffled_1 = get_bonus(obs, shuffled_actions, network_1).detach().cpu().numpy()"
   ]
  },
  {
   "cell_type": "code",
   "execution_count": 17,
   "metadata": {},
   "outputs": [
    {
     "data": {
      "text/plain": [
       "Text(0.5, 0.98, 'halfcheetah-medium-v0')"
      ]
     },
     "execution_count": 17,
     "metadata": {},
     "output_type": "execute_result"
    },
    {
     "data": {
      "image/png": "[encoded data removed]",
      "text/plain": [
       "<Figure size 1080x720 with 6 Axes>"
      ]
     },
     "metadata": {
      "needs_background": "light"
     },
     "output_type": "display_data"
    }
   ],
   "source": [
    "num_bins = 20\n",
    "matplotlib.rcParams['figure.figsize'] = (15, 10)\n",
    "fig=plt.figure()\n",
    "plt.subplot(2, 3, 1)\n",
    "plt.hist(bonus_1, bins = num_bins, label='dataset')\n",
    "plt.legend()\n",
    "\n",
    "plt.subplot(2, 3, 2)\n",
    "plt.hist(bonus_shuffled_1, bins = num_bins, label='shuffled')\n",
    "plt.legend()\n",
    "\n",
    "plt.subplot(2, 3, 3)\n",
    "plt.hist(bonus_1, bins = num_bins, label='dataset')\n",
    "plt.hist(bonus_shuffled_1, bins = num_bins, label='shuffled')\n",
    "plt.legend(loc='upper right')\n",
    "\n",
    "\n",
    "plt.subplot(2, 3, 4)\n",
    "plt.hist(bonus_1, bins = num_bins, label='dataset')\n",
    "plt.legend()\n",
    "\n",
    "plt.subplot(2, 3, 5)\n",
    "plt.hist(bonus_random_1_mean, bins = num_bins, label='random')\n",
    "plt.legend()\n",
    "\n",
    "plt.subplot(2, 3, 6)\n",
    "plt.hist(bonus_1, bins = num_bins, label='dataset')\n",
    "plt.hist(bonus_random_1_mean, bins = num_bins, label='random')\n",
    "plt.legend(loc='upper right')\n",
    "\n",
    "plt.suptitle(env_name)"
   ]
  },
  {
   "cell_type": "markdown",
   "metadata": {},
   "source": [
    "# Hopper"
   ]
  },
  {
   "cell_type": "code",
   "execution_count": 18,
   "metadata": {},
   "outputs": [
    {
     "name": "stdout",
     "output_type": "stream",
     "text": [
      "11\n",
      "3\n",
      ".. using normalization ..\n",
      "min_reward:0.7078363299369812, max_reward:5.966001510620117, range: 5.25816535949707\n"
     ]
    }
   ],
   "source": [
    "env_name = 'hopper-medium-v0'\n",
    "\n",
    "env = gym.make(env_name)\n",
    "obs_dim = env.observation_space.low.size\n",
    "action_dim = env.action_space.low.size\n",
    "\n",
    "print(obs_dim)\n",
    "print(action_dim)\n",
    "\n",
    "dataset = env.get_dataset()\n",
    "obs = torch.from_numpy(dataset['observations'])\n",
    "actions = torch.from_numpy(dataset['actions'])\n",
    "rewards = dataset['rewards']\n",
    "min_reward = min(rewards)\n",
    "max_reward = max(rewards)\n",
    "print('.. using normalization ..')\n",
    "obs = (obs - obs.mean(axis=0)) / obs.std(axis=0)\n",
    "\n",
    "print('min_reward:{}, max_reward:{}, range: {}'.format(min_reward, max_reward, max_reward - min_reward))"
   ]
  },
  {
   "cell_type": "code",
   "execution_count": 19,
   "metadata": {},
   "outputs": [
    {
     "name": "stdout",
     "output_type": "stream",
     "text": [
      "Loading model: ../models/Nov-30-2020_1504_hopper-medium-v0.pt\n",
      "size of bonus:torch.Size([1000000, 1])\n"
     ]
    }
   ],
   "source": [
    "# model_name = 'Nov-30-2020_1428_hopper-medium-v0.pt'\n",
    "model_name = 'Nov-30-2020_1448_hopper-medium-v0.pt'\n",
    "model_name = 'Nov-30-2020_1504_hopper-medium-v0.pt'\n",
    "network_1 = load_models(model_name)\n",
    "bonus_1 = get_bonus(obs, actions, network_1,).detach().cpu().numpy()"
   ]
  },
  {
   "cell_type": "code",
   "execution_count": 20,
   "metadata": {},
   "outputs": [
    {
     "name": "stdout",
     "output_type": "stream",
     "text": [
      "size of bonus:torch.Size([1000000, 10, 1])\n",
      "size of bonus:torch.Size([1000000, 1])\n"
     ]
    }
   ],
   "source": [
    "random_actions = torch.FloatTensor(actions.shape[0] * num_random, actions.shape[-1]).uniform_(-1, 1)\n",
    "bonus_random_1 = get_bonus_random_actions(obs, random_actions, network_1).detach().cpu().numpy()\n",
    "bonus_random_1_mean = np.mean(bonus_random_1, axis=1)\n",
    "\n",
    "ind = np.random.permutation(actions.shape[0])\n",
    "shuffled_actions = actions[ind]\n",
    "\n",
    "bonus_shuffled_1 = get_bonus(obs, shuffled_actions, network_1).detach().cpu().numpy()"
   ]
  },
  {
   "cell_type": "code",
   "execution_count": 22,
   "metadata": {},
   "outputs": [
    {
     "data": {
      "text/plain": [
       "Text(0.5, 0.98, 'hopper-medium-v0')"
      ]
     },
     "execution_count": 22,
     "metadata": {},
     "output_type": "execute_result"
    },
    {
     "data": {
      "image/png": "[encoded data removed]",
      "text/plain": [
       "<Figure size 1080x720 with 6 Axes>"
      ]
     },
     "metadata": {
      "needs_background": "light"
     },
     "output_type": "display_data"
    }
   ],
   "source": [
    "num_bins = 20\n",
    "matplotlib.rcParams['figure.figsize'] = (15, 10)\n",
    "fig=plt.figure()\n",
    "plt.subplot(2, 3, 1)\n",
    "plt.hist(bonus_1, bins = num_bins, label='dataset')\n",
    "plt.legend()\n",
    "\n",
    "plt.subplot(2, 3, 2)\n",
    "plt.hist(bonus_shuffled_1, bins = num_bins, label='shuffled')\n",
    "plt.legend()\n",
    "\n",
    "plt.subplot(2, 3, 3)\n",
    "plt.hist(bonus_1, bins = num_bins, label='dataset')\n",
    "plt.hist(bonus_shuffled_1, bins = num_bins, label='shuffled')\n",
    "plt.legend(loc='upper right')\n",
    "\n",
    "\n",
    "plt.subplot(2, 3, 4)\n",
    "plt.hist(bonus_1, bins = num_bins, label='dataset')\n",
    "plt.legend()\n",
    "\n",
    "plt.subplot(2, 3, 5)\n",
    "plt.hist(bonus_random_1_mean, bins = num_bins, label='random')\n",
    "plt.legend()\n",
    "\n",
    "plt.subplot(2, 3, 6)\n",
    "plt.hist(bonus_1, bins = num_bins, label='dataset')\n",
    "plt.hist(bonus_random_1_mean, bins = num_bins, label='random')\n",
    "plt.legend(loc='upper right')\n",
    "\n",
    "plt.suptitle(env_name)"
   ]
  },
  {
   "cell_type": "code",
   "execution_count": null,
   "metadata": {},
   "outputs": [],
   "source": [
    "dataset = env.get_dataset()\n",
    "obs = torch.from_numpy(dataset['observations'])\n",
    "actions = torch.from_numpy(dataset['actions'])\n",
    "rewards = dataset['rewards']\n",
    "# actions = (actions - actions.mean(axis=0)) / actions.std(axis=0)\n"
   ]
  },
  {
   "cell_type": "code",
   "execution_count": null,
   "metadata": {},
   "outputs": [],
   "source": [
    "print(torch.min(actions))"
   ]
  },
  {
   "cell_type": "code",
   "execution_count": null,
   "metadata": {},
   "outputs": [],
   "source": [
    "print(torch.min(obs))"
   ]
  },
  {
   "cell_type": "code",
   "execution_count": null,
   "metadata": {},
   "outputs": [],
   "source": [
    "print(torch.max(obs))"
   ]
  },
  {
   "cell_type": "code",
   "execution_count": null,
   "metadata": {},
   "outputs": [],
   "source": []
  }
 ],
 "metadata": {
  "kernelspec": {
   "display_name": "Python 3",
   "language": "python",
   "name": "python3"
  },
  "language_info": {
   "codemirror_mode": {
    "name": "ipython",
    "version": 3
   },
   "file_extension": ".py",
   "mimetype": "text/x-python",
   "name": "python",
   "nbconvert_exporter": "python",
   "pygments_lexer": "ipython3",
   "version": "3.8.5"
  }
 },
 "nbformat": 4,
 "nbformat_minor": 4
}

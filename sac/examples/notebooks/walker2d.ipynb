{
 "cells": [
  {
   "cell_type": "code",
   "execution_count": 1,
   "metadata": {},
   "outputs": [
    {
     "name": "stderr",
     "output_type": "stream",
     "text": [
      "Warning: Flow failed to import. Set the environment variable D4RL_SUPPRESS_IMPORT_ERROR=1 to suppress this message.\n",
      "No module named 'flow'\n",
      "Warning: FrankaKitchen failed to import. Set the environment variable D4RL_SUPPRESS_IMPORT_ERROR=1 to suppress this message.\n",
      "(65544) b'X11: The DISPLAY environment variable is missing'\n",
      "Warning: CARLA failed to import. Set the environment variable D4RL_SUPPRESS_IMPORT_ERROR=1 to suppress this message.\n",
      "No module named 'carla'\n"
     ]
    }
   ],
   "source": [
    "import torch\n",
    "from torch.utils.data import TensorDataset, DataLoader\n",
    "from torch.nn import functional as F\n",
    "\n",
    "import numpy as np\n",
    "\n",
    "import gym\n",
    "import d4rl\n",
    "\n",
    "from rlkit.torch.networks import Mlp, FlattenMlp\n",
    "import seaborn as sns\n",
    "import matplotlib.pyplot as plt\n",
    "\n",
    "import matplotlib\n",
    "matplotlib.rcParams['figure.figsize'] = (15, 10)\n"
   ]
  },
  {
   "cell_type": "code",
   "execution_count": 2,
   "metadata": {},
   "outputs": [],
   "source": [
    "def get_bonus(obs, actions, network):\n",
    "    data = torch.cat((obs, actions), dim=1)\n",
    "    # print('size of data:{}'.format(data.size()))\n",
    "    \n",
    "    with torch.no_grad():\n",
    "        bonus = network(data)\n",
    "    print('size of bonus:{}'.format(bonus.size()))\n",
    "    \n",
    "    return bonus"
   ]
  },
  {
   "cell_type": "code",
   "execution_count": 3,
   "metadata": {},
   "outputs": [],
   "source": [
    "def get_bonus_random_actions(obs, actions, network):\n",
    "    action_shape = actions.shape[0]\n",
    "    obs_shape = obs.shape[0]\n",
    "    num_repeat = int (action_shape / obs_shape)\n",
    "    obs_temp = obs.unsqueeze(1).repeat(1, num_repeat, 1).view(obs.shape[0] * num_repeat, obs.shape[1])\n",
    "    # feed to the bonus networks\n",
    "    data = torch.cat((obs_temp, actions), dim=1)\n",
    "    with torch.no_grad():\n",
    "        bonus = network(data)\n",
    "    # reshape\n",
    "    bonus = bonus.view(obs.shape[0], num_repeat, 1)\n",
    "    print('size of bonus:{}'.format(bonus.size()))\n",
    "\n",
    "    return bonus"
   ]
  },
  {
   "cell_type": "code",
   "execution_count": 4,
   "metadata": {},
   "outputs": [],
   "source": [
    "def get_bonus_noisy_actions(obs, actions, N, sigma, network):\n",
    "    noise = torch.normal(mean=0, std=sigma, size=(actions.shape[0] * N, actions.shape[-1]))\n",
    "#     print('noise size:{}'.format(noise.size()))\n",
    "\n",
    "    obs_temp = obs.unsqueeze(1).repeat(1, N, 1).view(obs.shape[0] * N, obs.shape[1])\n",
    "    actions_tmp = actions.unsqueeze(1).repeat(1, N, 1).view(actions.shape[0] * N, actions.shape[1])\n",
    "#     print('obs_temp size:{}'.format(obs_temp.size()))\n",
    "#     print('actions_tmp size:{}'.format(actions_tmp.size()))\n",
    "\n",
    "    noisy_actions = actions_tmp + noise\n",
    "    print('noisy_actions size:{}'.format(noisy_actions.size()))\n",
    "    bonus = get_bonus(obs_temp, noisy_actions, network).view(obs.shape[0], N, 1)\n",
    "    return bonus"
   ]
  },
  {
   "cell_type": "code",
   "execution_count": 5,
   "metadata": {},
   "outputs": [],
   "source": [
    "def load_models(model_name, M):\n",
    "\n",
    "    network = Mlp(\n",
    "        input_size=obs_dim + action_dim,\n",
    "        output_size=1,\n",
    "        hidden_sizes=[M, M],\n",
    "        output_activation=F.sigmoid,\n",
    "    )\n",
    "\n",
    "    \n",
    "    path = '../models/{}'.format(model_name)\n",
    "    checkpoint = torch.load(path, map_location='cpu')\n",
    "    network.load_state_dict(checkpoint['network_state_dict'])\n",
    "\n",
    "    print('Loading model: {}'.format(path))\n",
    "    \n",
    "    return network"
   ]
  },
  {
   "cell_type": "code",
   "execution_count": 6,
   "metadata": {},
   "outputs": [],
   "source": [
    "def bc_load_models(model_name, M):\n",
    "\n",
    "    network = Mlp(\n",
    "        input_size=obs_dim ,\n",
    "        output_size=action_dim,\n",
    "        hidden_sizes=[M, M],\n",
    "        output_activation=F.tanh,\n",
    "    )\n",
    "\n",
    "    \n",
    "    path = '../models/{}'.format(model_name)\n",
    "    checkpoint = torch.load(path, map_location='cpu')\n",
    "    network.load_state_dict(checkpoint['network_state_dict'])\n",
    "\n",
    "    print('Loading model: {}'.format(path))\n",
    "    \n",
    "    return network\n",
    "def bc_load_models_old(model_name, M):\n",
    "\n",
    "    network = Mlp(\n",
    "        input_size=obs_dim ,\n",
    "        output_size=action_dim,\n",
    "        hidden_sizes=[M, M],\n",
    "#         output_activation=F.tanh,\n",
    "    )\n",
    "\n",
    "    \n",
    "    path = '../models/{}'.format(model_name)\n",
    "    checkpoint = torch.load(path, map_location='cpu')\n",
    "    network.load_state_dict(checkpoint['network_state_dict'])\n",
    "\n",
    "    print('Loading model: {}'.format(path))\n",
    "    \n",
    "    return network"
   ]
  },
  {
   "cell_type": "code",
   "execution_count": 7,
   "metadata": {},
   "outputs": [],
   "source": [
    "num_random = 10"
   ]
  },
  {
   "cell_type": "markdown",
   "metadata": {},
   "source": [
    "# walker2d"
   ]
  },
  {
   "cell_type": "code",
   "execution_count": 8,
   "metadata": {},
   "outputs": [
    {
     "name": "stderr",
     "output_type": "stream",
     "text": [
      "/usr/local/google/home/shideh/virtual_env/ML/lib/python3.8/site-packages/gym/logger.py:30: UserWarning: \u001b[33mWARN: Box bound precision lowered by casting to float32\u001b[0m\n",
      "  warnings.warn(colorize('%s: %s'%('WARN', msg % args), 'yellow'))\n"
     ]
    },
    {
     "name": "stdout",
     "output_type": "stream",
     "text": [
      "17\n",
      "6\n",
      ".. using normalization ..\n",
      "min_reward:-5.741327285766602, max_reward:8.771693229675293, range: 14.513020515441895\n"
     ]
    }
   ],
   "source": [
    "env_name = 'walker2d-medium-v0'\n",
    "\n",
    "env = gym.make(env_name)\n",
    "obs_dim = env.observation_space.low.size\n",
    "action_dim = env.action_space.low.size\n",
    "\n",
    "print(obs_dim)\n",
    "print(action_dim)\n",
    "\n",
    "dataset = env.get_dataset()\n",
    "obs = torch.from_numpy(dataset['observations'])\n",
    "actions = torch.from_numpy(dataset['actions'])\n",
    "rewards = dataset['rewards']\n",
    "min_reward = min(rewards)\n",
    "max_reward = max(rewards)\n",
    "print('.. using normalization ..')\n",
    "obs = (obs - obs.mean(axis=0)) / obs.std(axis=0)\n",
    "\n",
    "\n",
    "print('min_reward:{}, max_reward:{}, range: {}'.format(min_reward, max_reward, max_reward - min_reward))"
   ]
  },
  {
   "cell_type": "code",
   "execution_count": 20,
   "metadata": {},
   "outputs": [
    {
     "name": "stdout",
     "output_type": "stream",
     "text": [
      "Loading model: ../models/Dec-14-2020_1012_walker2d-medium-v0.pt\n",
      "size of bonus:torch.Size([1000000, 1])\n"
     ]
    }
   ],
   "source": [
    "\n",
    "model_name = 'Nov-30-2020_1526_walker2d-medium-v0.pt'\n",
    "model_name = \"Dec-09-2020_1529_walker2d-medium-v0.pt\"\n",
    "\n",
    "# add noise to the actions for training\n",
    "# model_name = 'Dec-14-2020_0947_walker2d-medium-v0.pt' # std = 0.25\n",
    "model_name = 'Dec-14-2020_1012_walker2d-medium-v0.pt'  # std = 0.5\n",
    "network = load_models(model_name, 256)\n",
    "bonus = get_bonus(obs, actions, network,).detach().cpu().numpy()"
   ]
  },
  {
   "cell_type": "code",
   "execution_count": 21,
   "metadata": {},
   "outputs": [
    {
     "name": "stdout",
     "output_type": "stream",
     "text": [
      "Loading model: ../models/bc_Dec-08-2020_1111_walker2d-medium-v0.pt\n",
      "size of actions_bc:torch.Size([1000000, 6])\n"
     ]
    }
   ],
   "source": [
    "model_name = 'bc_Dec-07-2020_0920_walker2d-medium-v0.pt'\n",
    "# model_name = 'bc_Dec-08-2020_1028_walker2d-medium-v0.pt'\n",
    "model_name = 'bc_Dec-08-2020_1111_walker2d-medium-v0.pt'\n",
    "\n",
    "network_bc = bc_load_models(model_name, 64)\n",
    "# network_bc = bc_load_models_old(model_name, 256)\n",
    "\n",
    "actions_bc = network_bc(obs)\n",
    "                        \n",
    "print('size of actions_bc:{}'.format(actions_bc.shape))\n"
   ]
  },
  {
   "cell_type": "code",
   "execution_count": 22,
   "metadata": {},
   "outputs": [
    {
     "name": "stdout",
     "output_type": "stream",
     "text": [
      "size of bonus:torch.Size([1000000, 1])\n"
     ]
    }
   ],
   "source": [
    "bonus_bc = get_bonus(obs, actions_bc, network).detach().cpu().numpy()"
   ]
  },
  {
   "cell_type": "code",
   "execution_count": 23,
   "metadata": {},
   "outputs": [
    {
     "data": {
      "text/plain": [
       "Text(0.5, 0.98, 'walker2d-medium-v0')"
      ]
     },
     "execution_count": 23,
     "metadata": {},
     "output_type": "execute_result"
    },
    {
     "data": {
      "image/png": "[encoded data removed]",
      "text/plain": [
       "<Figure size 1080x360 with 3 Axes>"
      ]
     },
     "metadata": {
      "needs_background": "light"
     },
     "output_type": "display_data"
    }
   ],
   "source": [
    "num_bins = 20\n",
    "matplotlib.rcParams['figure.figsize'] = (15, 5)\n",
    "fig=plt.figure()\n",
    "plt.subplot(1, 3, 1)\n",
    "plt.hist(bonus, bins = num_bins, label='dataset')\n",
    "plt.legend()\n",
    "\n",
    "plt.subplot(1, 3, 2)\n",
    "plt.hist(bonus_bc, bins = num_bins, label='bc')\n",
    "plt.legend()\n",
    "\n",
    "plt.subplot(1, 3, 3)\n",
    "plt.hist(bonus, bins = num_bins, label='dataset')\n",
    "plt.hist(bonus_bc, bins = num_bins, label='bc')\n",
    "plt.legend(loc='upper right')\n",
    "\n",
    "\n",
    "plt.suptitle(env_name)"
   ]
  },
  {
   "cell_type": "code",
   "execution_count": 41,
   "metadata": {},
   "outputs": [],
   "source": [
    "ind = 3\n",
    "sample_states = obs[:ind]\n",
    "sample_actions = actions[:ind]\n",
    "\n",
    "sample_actions_bc = network_bc(sample_states)\n",
    "\n"
   ]
  },
  {
   "cell_type": "code",
   "execution_count": 42,
   "metadata": {},
   "outputs": [
    {
     "data": {
      "text/plain": [
       "tensor([[-0.2126,  0.4730,  0.1843,  0.7734,  0.7279,  0.1576],\n",
       "        [ 0.4255,  0.8377, -0.0243,  0.9240,  0.4233,  0.1698],\n",
       "        [-0.0451,  0.6699, -0.1601,  0.9247,  0.5235, -0.0262]])"
      ]
     },
     "execution_count": 42,
     "metadata": {},
     "output_type": "execute_result"
    }
   ],
   "source": [
    "sample_actions"
   ]
  },
  {
   "cell_type": "code",
   "execution_count": 43,
   "metadata": {},
   "outputs": [
    {
     "data": {
      "text/plain": [
       "tensor([[-0.3318,  0.9369, -0.9067, -0.0652,  0.3330, -0.3763],\n",
       "        [-0.2688,  0.9433, -0.9116,  0.0080,  0.2852, -0.3366],\n",
       "        [-0.2727,  0.9430, -0.9239,  0.0896,  0.3326, -0.3178]],\n",
       "       grad_fn=<TanhBackward>)"
      ]
     },
     "execution_count": 43,
     "metadata": {},
     "output_type": "execute_result"
    }
   ],
   "source": [
    "sample_actions_bc"
   ]
  },
  {
   "cell_type": "code",
   "execution_count": 44,
   "metadata": {},
   "outputs": [
    {
     "name": "stdout",
     "output_type": "stream",
     "text": [
      "tensor([[-0.3318,  0.9369, -0.9067, -0.0652,  0.3330, -0.3763],\n",
      "        [-0.2688,  0.9433, -0.9116,  0.0080,  0.2852, -0.3366],\n",
      "        [-0.2727,  0.9430, -0.9239,  0.0896,  0.3326, -0.3178]],\n",
      "       grad_fn=<TanhBackward>)\n"
     ]
    }
   ],
   "source": [
    "sample_actions_bc = network_bc(sample_states)\n",
    "print(sample_actions_bc)"
   ]
  },
  {
   "cell_type": "code",
   "execution_count": 24,
   "metadata": {},
   "outputs": [
    {
     "name": "stdout",
     "output_type": "stream",
     "text": [
      "size of bonus:torch.Size([1000000, 10, 1])\n"
     ]
    }
   ],
   "source": [
    "random_actions = torch.FloatTensor(actions.shape[0] * num_random, actions.shape[-1]).uniform_(-1, 1)\n",
    "bonus_random = get_bonus_random_actions(obs, random_actions, network).detach().cpu().numpy()\n",
    "bonus_random_mean = np.mean(bonus_random, axis=1)\n"
   ]
  },
  {
   "cell_type": "code",
   "execution_count": 25,
   "metadata": {},
   "outputs": [
    {
     "name": "stdout",
     "output_type": "stream",
     "text": [
      "size of bonus:torch.Size([1000000, 1])\n"
     ]
    }
   ],
   "source": [
    "ind = np.random.permutation(actions.shape[0])\n",
    "shuffled_actions = actions[ind]\n",
    "\n",
    "bonus_shuffled = get_bonus(obs, shuffled_actions, network).detach().cpu().numpy()"
   ]
  },
  {
   "cell_type": "code",
   "execution_count": 47,
   "metadata": {},
   "outputs": [
    {
     "name": "stdout",
     "output_type": "stream",
     "text": [
      "mean reward:2.6488335132598877, delta_bonus:0.7665500640869141\n",
      "rho1:3.5\n",
      "rho2:5.3\n"
     ]
    }
   ],
   "source": [
    "bonus_random_mean = np.mean(bonus_random, axis=1)\n",
    "reward_mean = np.mean(rewards)\n",
    "delta_bonus = abs(bonus_random_mean - bonus).squeeze(1)\n",
    "\n",
    "delta_bonus_mean = np.mean(delta_bonus)\n",
    "print('mean reward:{}, delta_bonus:{}'.format(reward_mean,delta_bonus_mean))\n",
    "rho1_mean = reward_mean / delta_bonus_mean\n",
    "print('rho1:{0:0.2g}'.format(rho1_mean))\n",
    "\n",
    "\n",
    "rho2_mean = np.mean(rewards / np.clip(delta_bonus, 1e-9, 1e9))\n",
    "print('rho2:{0:.2g}'.format(rho2_mean))"
   ]
  },
  {
   "cell_type": "code",
   "execution_count": 48,
   "metadata": {},
   "outputs": [
    {
     "name": "stdout",
     "output_type": "stream",
     "text": [
      "median reward:3.02319598197937, delta_bonus:0.7944409251213074\n",
      "rho1:3.8\n",
      "rho2:3.9\n"
     ]
    }
   ],
   "source": [
    "bonus_random_median = np.mean(bonus_random, axis=1)\n",
    "reward_median = np.median(rewards)\n",
    "delta_bonus = abs(bonus_random_median - bonus).squeeze(1)\n",
    "\n",
    "delta_bonus_median = np.median(delta_bonus)\n",
    "print('median reward:{}, delta_bonus:{}'.format(reward_median,delta_bonus_median))\n",
    "rho1_median = reward_median / delta_bonus_median\n",
    "print('rho1:{0:0.2g}'.format(rho1_median))\n",
    "\n",
    "\n",
    "rho2_median = np.median(rewards / np.clip(delta_bonus, 1e-9, 1e9))\n",
    "print('rho2:{0:.2g}'.format(rho2_median))"
   ]
  },
  {
   "cell_type": "code",
   "execution_count": 26,
   "metadata": {},
   "outputs": [
    {
     "data": {
      "text/plain": [
       "Text(0.5, 0.98, 'walker2d-medium-v0')"
      ]
     },
     "execution_count": 26,
     "metadata": {},
     "output_type": "execute_result"
    },
    {
     "data": {
      "image/png": "[encoded data removed]",
      "text/plain": [
       "<Figure size 1080x720 with 6 Axes>"
      ]
     },
     "metadata": {
      "needs_background": "light"
     },
     "output_type": "display_data"
    }
   ],
   "source": [
    "num_bins = 20\n",
    "matplotlib.rcParams['figure.figsize'] = (15, 10)\n",
    "fig=plt.figure()\n",
    "plt.subplot(2, 3, 1)\n",
    "plt.hist(bonus, bins = num_bins, label='dataset')\n",
    "plt.legend()\n",
    "\n",
    "plt.subplot(2, 3, 2)\n",
    "plt.hist(bonus_shuffled, bins = num_bins, label='shuffled')\n",
    "plt.legend()\n",
    "\n",
    "plt.subplot(2, 3, 3)\n",
    "plt.hist(bonus, bins = num_bins, label='dataset')\n",
    "plt.hist(bonus_shuffled, bins = num_bins, label='shuffled')\n",
    "plt.legend(loc='upper right')\n",
    "\n",
    "\n",
    "plt.subplot(2, 3, 4)\n",
    "plt.hist(bonus, bins = num_bins, label='dataset')\n",
    "plt.legend()\n",
    "\n",
    "plt.subplot(2, 3, 5)\n",
    "plt.hist(bonus_random_mean, bins = num_bins, label='random')\n",
    "plt.legend()\n",
    "\n",
    "plt.subplot(2, 3, 6)\n",
    "plt.hist(bonus, bins = num_bins, label='dataset')\n",
    "plt.hist(bonus_random_mean, bins = num_bins, label='random')\n",
    "plt.legend(loc='upper right')\n",
    "\n",
    "plt.suptitle(env_name)"
   ]
  },
  {
   "cell_type": "markdown",
   "metadata": {},
   "source": [
    "### bonus for noisy actions"
   ]
  },
  {
   "cell_type": "code",
   "execution_count": 27,
   "metadata": {},
   "outputs": [
    {
     "name": "stdout",
     "output_type": "stream",
     "text": [
      "noisy_actions size:torch.Size([10000000, 6])\n",
      "size of bonus:torch.Size([10000000, 1])\n",
      "noisy_actions size:torch.Size([10000000, 6])\n",
      "size of bonus:torch.Size([10000000, 1])\n",
      "noisy_actions size:torch.Size([10000000, 6])\n",
      "size of bonus:torch.Size([10000000, 1])\n"
     ]
    }
   ],
   "source": [
    "N = 10\n",
    "\n",
    "bonus_noisy_actions_sigma1 = get_bonus_noisy_actions(obs, actions, N, 0.1, network).detach().cpu().numpy()\n",
    "bonus_noisy_actions_sigma2 = get_bonus_noisy_actions(obs, actions, N, 0.25, network).detach().cpu().numpy()\n",
    "bonus_noisy_actions_sigma3 = get_bonus_noisy_actions(obs, actions, N, 0.75, network).detach().cpu().numpy()\n",
    "\n",
    "bonus_noisy_actions_sigma1 = np.mean(bonus_noisy_actions_sigma1, axis=1)\n",
    "bonus_noisy_actions_sigma2 = np.mean(bonus_noisy_actions_sigma2, axis=1)\n",
    "bonus_noisy_actions_sigma3 = np.mean(bonus_noisy_actions_sigma3, axis=1)"
   ]
  },
  {
   "cell_type": "code",
   "execution_count": 28,
   "metadata": {},
   "outputs": [
    {
     "data": {
      "text/plain": [
       "Text(0.5, 0.98, 'walker2d-medium-v0')"
      ]
     },
     "execution_count": 28,
     "metadata": {},
     "output_type": "execute_result"
    },
    {
     "data": {
      "image/png": "[encoded data removed]",
      "text/plain": [
       "<Figure size 1080x720 with 9 Axes>"
      ]
     },
     "metadata": {
      "needs_background": "light"
     },
     "output_type": "display_data"
    }
   ],
   "source": [
    "num_bins = 30\n",
    "matplotlib.rcParams['figure.figsize'] = (15, 10)\n",
    "fig=plt.figure()\n",
    "plt.subplot(3, 3, 1)\n",
    "plt.hist(bonus, bins = num_bins, label='dataset')\n",
    "plt.legend()\n",
    "\n",
    "plt.subplot(3, 3, 2)\n",
    "plt.hist(bonus_noisy_actions_sigma1, bins = num_bins, label='noisy actions with std = 0.1')\n",
    "plt.legend()\n",
    "\n",
    "plt.subplot(3, 3, 3)\n",
    "plt.hist(bonus, bins = num_bins, label='dataset')\n",
    "plt.hist(bonus_noisy_actions_sigma1, bins = num_bins, label='noisy actions with std=0.1')\n",
    "plt.legend(loc='upper left')\n",
    "\n",
    "\n",
    "plt.subplot(3, 3, 4)\n",
    "plt.hist(bonus, bins = num_bins, label='dataset')\n",
    "plt.legend()\n",
    "\n",
    "plt.subplot(3, 3, 5)\n",
    "plt.hist(bonus_noisy_actions_sigma2, bins = num_bins, label='noisy actions with std=0.25')\n",
    "plt.legend()\n",
    "\n",
    "plt.subplot(3, 3, 6)\n",
    "plt.hist(bonus, bins = num_bins, label='dataset')\n",
    "plt.hist(bonus_noisy_actions_sigma2, bins = num_bins, label='noisy actions with std=0.25')\n",
    "plt.legend(loc='upper left')\n",
    "\n",
    "plt.subplot(3, 3, 7)\n",
    "plt.hist(bonus, bins = num_bins, label='dataset')\n",
    "plt.legend()\n",
    "\n",
    "plt.subplot(3, 3, 8)\n",
    "plt.hist(bonus_noisy_actions_sigma3, bins = num_bins, label='noisy actions with std=0.75')\n",
    "plt.legend()\n",
    "\n",
    "plt.subplot(3, 3, 9)\n",
    "plt.hist(bonus, bins = num_bins, label='dataset')\n",
    "plt.hist(bonus_noisy_actions_sigma3, bins = num_bins, label='noisy actions with std=0.75')\n",
    "plt.legend(loc='upper left')\n",
    "\n",
    "plt.suptitle(env_name)"
   ]
  },
  {
   "cell_type": "code",
   "execution_count": null,
   "metadata": {},
   "outputs": [],
   "source": []
  },
  {
   "cell_type": "code",
   "execution_count": null,
   "metadata": {},
   "outputs": [],
   "source": []
  }
 ],
 "metadata": {
  "kernelspec": {
   "display_name": "Python 3",
   "language": "python",
   "name": "python3"
  },
  "language_info": {
   "codemirror_mode": {
    "name": "ipython",
    "version": 3
   },
   "file_extension": ".py",
   "mimetype": "text/x-python",
   "name": "python",
   "nbconvert_exporter": "python",
   "pygments_lexer": "ipython3",
   "version": "3.8.6"
  }
 },
 "nbformat": 4,
 "nbformat_minor": 4
}

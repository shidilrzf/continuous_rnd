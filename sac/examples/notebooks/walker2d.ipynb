{
 "cells": [
  {
   "cell_type": "code",
   "execution_count": 1,
   "metadata": {},
   "outputs": [
    {
     "name": "stderr",
     "output_type": "stream",
     "text": [
      "Warning: Flow failed to import. Set the environment variable D4RL_SUPPRESS_IMPORT_ERROR=1 to suppress this message.\n",
      "No module named 'flow'\n",
      "Warning: FrankaKitchen failed to import. Set the environment variable D4RL_SUPPRESS_IMPORT_ERROR=1 to suppress this message.\n",
      "(65544) b'X11: The DISPLAY environment variable is missing'\n",
      "Warning: CARLA failed to import. Set the environment variable D4RL_SUPPRESS_IMPORT_ERROR=1 to suppress this message.\n",
      "No module named 'carla'\n"
     ]
    }
   ],
   "source": [
    "import torch\n",
    "from torch.utils.data import TensorDataset, DataLoader\n",
    "import numpy as np\n",
    "\n",
    "import gym\n",
    "import d4rl\n",
    "\n",
    "from rlkit.torch.networks import Mlp\n",
    "import seaborn as sns\n",
    "import matplotlib.pyplot as plt\n",
    "\n",
    "import matplotlib\n",
    "matplotlib.rcParams['figure.figsize'] = (5, 5)"
   ]
  },
  {
   "cell_type": "code",
   "execution_count": 2,
   "metadata": {},
   "outputs": [],
   "source": [
    "def get_bonus(obs, actions, network, target_network):\n",
    "    data = torch.cat((obs, actions), dim=1)\n",
    "    # print('size of data:{}'.format(data.size()))\n",
    "    \n",
    "    with torch.no_grad():\n",
    "        bonus = abs(network(data) - target_network(data))\n",
    "    # print('size of bonus:{}'.format(bonus.size()))\n",
    "    \n",
    "    return bonus"
   ]
  },
  {
   "cell_type": "code",
   "execution_count": 3,
   "metadata": {},
   "outputs": [],
   "source": [
    "def get_bonus_random_actions(obs, actions, network, target_network):\n",
    "    action_shape = actions.shape[0]\n",
    "    obs_shape = obs.shape[0]\n",
    "    num_repeat = int (action_shape / obs_shape)\n",
    "    obs_temp = obs.unsqueeze(1).repeat(1, num_repeat, 1).view(obs.shape[0] * num_repeat, obs.shape[1])\n",
    "    # feed to the bonus networks\n",
    "    data = torch.cat((obs_temp, actions), dim=1)\n",
    "    with torch.no_grad():\n",
    "        bonus = abs(network(data) - target_network(data))\n",
    "    # reshape\n",
    "    bonus = bonus.view(obs.shape[0], num_repeat, 1)\n",
    "    return bonus"
   ]
  },
  {
   "cell_type": "code",
   "execution_count": 4,
   "metadata": {},
   "outputs": [],
   "source": [
    "def load_models(model_name):\n",
    "    \n",
    "    M = 64\n",
    "    network = Mlp(\n",
    "        input_size=obs_dim + action_dim,\n",
    "        output_size=1,\n",
    "        hidden_sizes=[M, M],\n",
    "    )\n",
    "\n",
    "    target_network = Mlp(\n",
    "    input_size=obs_dim + action_dim,\n",
    "    output_size=1,\n",
    "    hidden_sizes=[M, M],\n",
    "    )\n",
    "    \n",
    "    path = '../models/{}'.format(model_name)\n",
    "    checkpoint = torch.load(path, map_location='cpu')\n",
    "    network.load_state_dict(checkpoint['network_state_dict'])\n",
    "    target_network.load_state_dict(checkpoint['target_state_dict'])\n",
    "\n",
    "    print('Loading model: {}'.format(path))\n",
    "    \n",
    "    return network, target_network"
   ]
  },
  {
   "cell_type": "code",
   "execution_count": 5,
   "metadata": {},
   "outputs": [
    {
     "name": "stdout",
     "output_type": "stream",
     "text": [
      "17\n",
      "6\n"
     ]
    },
    {
     "name": "stderr",
     "output_type": "stream",
     "text": [
      "/usr/local/google/home/shideh/virtual_env/ML/lib/python3.8/site-packages/gym/logger.py:30: UserWarning: \u001b[33mWARN: Box bound precision lowered by casting to float32\u001b[0m\n",
      "  warnings.warn(colorize('%s: %s'%('WARN', msg % args), 'yellow'))\n"
     ]
    }
   ],
   "source": [
    "env_name = 'halfcheetah-medium-v0'\n",
    "\n",
    "env = gym.make(env_name)\n",
    "obs_dim = env.observation_space.low.size\n",
    "action_dim = env.action_space.low.size\n",
    "\n",
    "print(obs_dim)\n",
    "print(action_dim)"
   ]
  },
  {
   "cell_type": "code",
   "execution_count": 6,
   "metadata": {},
   "outputs": [],
   "source": [
    "ds1 = d4rl.qlearning_dataset(env)\n",
    "ds2 = env.get_dataset()"
   ]
  },
  {
   "cell_type": "code",
   "execution_count": 7,
   "metadata": {},
   "outputs": [
    {
     "data": {
      "text/plain": [
       "dict_keys(['observations', 'actions', 'next_observations', 'rewards', 'terminals'])"
      ]
     },
     "execution_count": 7,
     "metadata": {},
     "output_type": "execute_result"
    }
   ],
   "source": [
    "ds1.keys()"
   ]
  },
  {
   "cell_type": "code",
   "execution_count": 8,
   "metadata": {},
   "outputs": [
    {
     "name": "stdout",
     "output_type": "stream",
     "text": [
      "(998999, 17)\n",
      "(998999, 17)\n"
     ]
    }
   ],
   "source": [
    "obs = ds1['observations']\n",
    "actions = ds1['actions']\n",
    "next_obs = ds1['next_observations']\n",
    "terminals = ds1['terminals']\n",
    "\n",
    "print(obs.shape)\n",
    "print(next_obs.shape)"
   ]
  },
  {
   "cell_type": "code",
   "execution_count": 9,
   "metadata": {},
   "outputs": [
    {
     "name": "stdout",
     "output_type": "stream",
     "text": [
      "(1000000, 17)\n"
     ]
    }
   ],
   "source": [
    "obs2 = ds2['observations']\n",
    "actions2 = ds2['actions']\n",
    "terminals2 = ds2['terminals']\n",
    "time_out = ds2['timeouts']\n",
    "print(obs2.shape)"
   ]
  },
  {
   "cell_type": "code",
   "execution_count": 10,
   "metadata": {},
   "outputs": [],
   "source": [
    "ind_timout= np.where(time_out==True)[0]\n",
    "# print(terminals2[ind_timout[1]])\n",
    "\n",
    "# # print(terminals2[ind_timout[1]])\n",
    "# print(actions2[ind_timout[1]])\n",
    "# print(actions2[ind_timout[1]+1])"
   ]
  },
  {
   "cell_type": "code",
   "execution_count": 73,
   "metadata": {},
   "outputs": [
    {
     "name": "stdout",
     "output_type": "stream",
     "text": [
      "------dqn dataset--------\n",
      "[ -0.30389348   0.1398849   -0.07737421   0.5346276   -0.4592523\n",
      "  -0.6209193   -0.5318672   -0.3586875    2.6149719    1.5751774\n",
      "  -0.64966756 -26.310863    11.040345     0.51380485   7.68483\n",
      "  -2.648935     2.3205364 ]\n",
      "--------------\n",
      "[-0.2183516   0.04446722 -0.574744    0.74301416  0.261671    0.24509293\n",
      " -0.41752967 -0.5010071   5.2002277   2.2979493  -1.0150564   3.2571762\n",
      " -0.6951445  16.227499   16.075888    2.9142966  -7.2048073 ]\n",
      "------normal dataset--------\n",
      "[ -0.30389348   0.1398849   -0.07737421   0.5346276   -0.4592523\n",
      "  -0.6209193   -0.5318672   -0.3586875    2.6149719    1.5751774\n",
      "  -0.64966756 -26.310863    11.040345     0.51380485   7.68483\n",
      "  -2.648935     2.3205364 ]\n",
      "--------------\n",
      "[-0.2183516   0.04446722 -0.574744    0.74301416  0.261671    0.24509293\n",
      " -0.41752967 -0.5010071   5.2002277   2.2979493  -1.0150564   3.2571762\n",
      " -0.6951445  16.227499   16.075888    2.9142966  -7.2048073 ]\n"
     ]
    }
   ],
   "source": [
    "ind = ind_timout[0] -1\n",
    "print('------dqn dataset--------')\n",
    "print(obs[ind,:])\n",
    "print('--------------')\n",
    "print(next_obs[ind,:])\n",
    "print('------normal dataset--------')\n",
    "print(obs2[ind,:])\n",
    "print('--------------')\n",
    "print(obs2[ind+1,:])\n"
   ]
  },
  {
   "cell_type": "code",
   "execution_count": 74,
   "metadata": {},
   "outputs": [
    {
     "name": "stdout",
     "output_type": "stream",
     "text": [
      "------dqn dataset--------\n",
      "[ 0.03488301  0.099709    0.01332847 -0.08567016 -0.09784969 -0.09340785\n",
      "  0.07143071  0.05414234  0.30647758  0.03224927 -0.01242412  0.1309806\n",
      " -0.0541737   0.02604712  0.20787422  0.02981176 -0.00630953]\n",
      "--------------\n",
      "[ 0.01895389  0.11537578  0.30336612 -0.40792343  0.305279    0.24464652\n",
      " -0.2839574  -0.22878769  1.1908333  -0.68324995  0.13777132  7.047706\n",
      " -6.767168    9.79017     8.537244   -7.996458   -7.8005657 ]\n",
      "------normal dataset--------\n",
      "[-0.2183516   0.04446722 -0.574744    0.74301416  0.261671    0.24509293\n",
      " -0.41752967 -0.5010071   5.2002277   2.2979493  -1.0150564   3.2571762\n",
      " -0.6951445  16.227499   16.075888    2.9142966  -7.2048073 ]\n",
      "--------------\n",
      "[ 0.03488301  0.099709    0.01332847 -0.08567016 -0.09784969 -0.09340785\n",
      "  0.07143071  0.05414234  0.30647758  0.03224927 -0.01242412  0.1309806\n",
      " -0.0541737   0.02604712  0.20787422  0.02981176 -0.00630953]\n"
     ]
    }
   ],
   "source": [
    "ind = ind_timout[0] \n",
    "print('------dqn dataset--------')\n",
    "print(obs[ind,:])\n",
    "print('--------------')\n",
    "print(next_obs[ind,:])\n",
    "print('------normal dataset--------')\n",
    "print(obs2[ind,:])\n",
    "print('--------------')\n",
    "print(obs2[ind+1,:])"
   ]
  },
  {
   "cell_type": "code",
   "execution_count": 35,
   "metadata": {},
   "outputs": [
    {
     "name": "stdout",
     "output_type": "stream",
     "text": [
      "(array([898]),)\n"
     ]
    }
   ],
   "source": [
    "terminal_inds = np.where(terminals==True)\n",
    "print(terminal_inds)"
   ]
  },
  {
   "cell_type": "code",
   "execution_count": 37,
   "metadata": {},
   "outputs": [
    {
     "data": {
      "text/plain": [
       "False"
      ]
     },
     "execution_count": 37,
     "metadata": {},
     "output_type": "execute_result"
    }
   ],
   "source": [
    "terminals[898+100]"
   ]
  },
  {
   "cell_type": "code",
   "execution_count": 38,
   "metadata": {},
   "outputs": [],
   "source": [
    "ds3 = d4rl.qlearning_dataset(env, ds2)\n"
   ]
  },
  {
   "cell_type": "code",
   "execution_count": 39,
   "metadata": {},
   "outputs": [
    {
     "name": "stdout",
     "output_type": "stream",
     "text": [
      "(998999, 17)\n",
      "(998999, 17)\n"
     ]
    }
   ],
   "source": [
    "obs = ds3['observations']\n",
    "actions = ds3['actions']\n",
    "next_obs = ds3['next_observations']\n",
    "terminals = ds3['terminals']\n",
    "\n",
    "print(obs.shape)\n",
    "print(next_obs.shape)"
   ]
  },
  {
   "cell_type": "markdown",
   "metadata": {},
   "source": [
    " So, for a transition $(s_t,a_t,r_t,s_{t+1})$, the minimum can reasonably be approximated by\n",
    "min_{a} b(s_t, a) = b(s_t, a_t)"
   ]
  },
  {
   "cell_type": "code",
   "execution_count": null,
   "metadata": {},
   "outputs": [],
   "source": [
    "o"
   ]
  }
 ],
 "metadata": {
  "kernelspec": {
   "display_name": "Python 3",
   "language": "python",
   "name": "python3"
  },
  "language_info": {
   "codemirror_mode": {
    "name": "ipython",
    "version": 3
   },
   "file_extension": ".py",
   "mimetype": "text/x-python",
   "name": "python",
   "nbconvert_exporter": "python",
   "pygments_lexer": "ipython3",
   "version": "3.8.5"
  }
 },
 "nbformat": 4,
 "nbformat_minor": 4
}
